{
 "cells": [
  {
   "cell_type": "code",
   "execution_count": 1,
   "metadata": {
    "collapsed": true
   },
   "outputs": [],
   "source": [
    "from pymongo import MongoClient\n",
    "import re\n",
    "\n",
    "mc = MongoClient('192.168.194.171', port=27017)\n",
    "db = mc.db_restT"
   ]
  },
  {
   "cell_type": "code",
   "execution_count": 2,
   "metadata": {
    "collapsed": false
   },
   "outputs": [
    {
     "name": "stdout",
     "output_type": "stream",
     "text": [
      "201871438\n",
      "1130534810\n",
      "NBA On Def Pen\n",
      "NBAOnDefPen\n",
      "8\n",
      "611345721980256256\n",
      "The Curry's #NBAFinals2015 http://t.co/ZVmvQI7zdD\n",
      "---------------------------------------------------------------\n"
     ]
    }
   ],
   "source": [
    "tweets = db.restT.find(\n",
    "    {\n",
    "        \"retweeted_status.lang\" : \"en\",\n",
    "        \"retweeted_status.user.id_str\" : \"1130534810\"\n",
    "    }\n",
    ").limit(1)\n",
    "for tweet in tweets:\n",
    "    print tweet['user']['id_str']\n",
    "    print tweet['retweeted_status']['user']['id_str']\n",
    "    print tweet['retweeted_status']['user']['name']\n",
    "    print tweet['retweeted_status']['user']['screen_name']\n",
    "    print tweet['retweeted_status']['retweet_count']\n",
    "    print tweet['retweeted_status']['id_str']\n",
    "    print tweet['retweeted_status']['text']\n",
    "    print '---------------------------------------------------------------'"
   ]
  },
  {
   "cell_type": "code",
   "execution_count": 3,
   "metadata": {
    "collapsed": false
   },
   "outputs": [
    {
     "name": "stdout",
     "output_type": "stream",
     "text": [
      "{'text': u'#LeBronsDick live at the #NBAFinals2015 \\U0001f602 http://t.co/Uy4QSUMwfJ', 'author_id': u'228875931', 'retweeter': {'user': u'3042489974'}, 'id_str': u'609203651282882560'}\n"
     ]
    }
   ],
   "source": [
    "retweets = {}\n",
    "tweets = db.restT.find(\n",
    "    {\n",
    "        \"retweeted_status.lang\" : \"en\",\n",
    "    }\n",
    ").limit(1)\n",
    "for tweet in tweets:\n",
    "    retweets['author_id'] = tweet['retweeted_status']['user']['id_str']\n",
    "    retweets['text']      = tweet['retweeted_status']['text']\n",
    "    retweets['id_str']    = tweet['retweeted_status']['id_str']\n",
    "    retweets['retweeter'] = {'user' : tweet['user']['id_str']}\n",
    "    print str(retweets)\n",
    "#    db.retweets.insert(retweet)"
   ]
  },
  {
   "cell_type": "code",
   "execution_count": 95,
   "metadata": {
    "collapsed": false
   },
   "outputs": [
    {
     "name": "stdout",
     "output_type": "stream",
     "text": [
      "{u'contributors': None, u'truncated': False, u'text': u'#LeBronsDick live at the #NBAFinals2015 \\U0001f602 http://t.co/Uy4QSUMwfJ', u'is_quote_status': False, u'in_reply_to_status_id': None, u'id': 609203651282882560L, u'favorite_count': 88, u'source': u'<a href=\"http://twitter.com/download/iphone\" rel=\"nofollow\">Twitter for iPhone</a>', u'retweeted': False, u'coordinates': None, u'entities': {u'symbols': [], u'user_mentions': [], u'hashtags': [{u'indices': [0, 12], u'text': u'LeBronsDick'}, {u'indices': [25, 39], u'text': u'NBAFinals2015'}], u'urls': [], u'media': [{u'expanded_url': u'http://twitter.com/FashionistaKika/status/609203651282882560/photo/1', u'display_url': u'pic.twitter.com/Uy4QSUMwfJ', u'url': u'http://t.co/Uy4QSUMwfJ', u'media_url_https': u'https://pbs.twimg.com/media/CHRTfLmUAAAWwrr.jpg', u'id_str': u'609203644756393984', u'sizes': {u'small': {u'h': 396, u'w': 340, u'resize': u'fit'}, u'large': {u'h': 670, u'w': 574, u'resize': u'fit'}, u'medium': {u'h': 670, u'w': 574, u'resize': u'fit'}, u'thumb': {u'h': 150, u'w': 150, u'resize': u'crop'}}, u'indices': [42, 64], u'type': u'photo', u'id': 609203644756393984L, u'media_url': u'http://pbs.twimg.com/media/CHRTfLmUAAAWwrr.jpg'}]}, u'in_reply_to_screen_name': None, u'id_str': u'609203651282882560', u'retweet_count': 94, u'in_reply_to_user_id': None, u'favorited': False, u'user': {u'follow_request_sent': None, u'profile_use_background_image': True, u'id': 228875931, u'verified': False, u'profile_text_color': u'333333', u'profile_image_url_https': u'https://pbs.twimg.com/profile_images/608694520746749953/z9p687pa_normal.jpg', u'profile_sidebar_fill_color': u'EFEFEF', u'is_translator': False, u'entities': {u'description': {u'urls': []}}, u'followers_count': 12119, u'protected': False, u'location': u'New York City', u'default_profile_image': False, u'id_str': u'228875931', u'lang': u'en', u'utc_offset': None, u'statuses_count': 31591, u'description': u'22 and im stronger than i ever been.', u'friends_count': 11220, u'profile_background_image_url_https': u'https://abs.twimg.com/images/themes/theme14/bg.gif', u'profile_link_color': u'009999', u'profile_image_url': u'http://pbs.twimg.com/profile_images/608694520746749953/z9p687pa_normal.jpg', u'notifications': None, u'geo_enabled': True, u'profile_background_color': u'131516', u'profile_banner_url': u'https://pbs.twimg.com/profile_banners/228875931/1434479310', u'profile_background_image_url': u'http://abs.twimg.com/images/themes/theme14/bg.gif', u'name': u'\\u2661', u'is_translation_enabled': False, u'profile_background_tile': True, u'favourites_count': 4927, u'screen_name': u'FashionistaKika', u'url': None, u'created_at': u'Mon Dec 20 22:48:32 +0000 2010', u'contributors_enabled': False, u'time_zone': None, u'profile_sidebar_border_color': u'EEEEEE', u'default_profile': False, u'following': None, u'listed_count': 22}, u'geo': None, u'in_reply_to_user_id_str': None, u'possibly_sensitive': False, u'lang': u'en', u'created_at': u'Fri Jun 12 03:40:43 +0000 2015', u'metadata': {u'iso_language_code': u'en', u'result_type': u'recent'}, u'in_reply_to_status_id_str': None, u'place': None, u'_id': ObjectId('55a2eddb86395f10e6de5479')}\n"
     ]
    }
   ],
   "source": [
    "retweets = db.retweet.find()\n",
    "for retweet in retweets:\n",
    "    print retweet"
   ]
  },
  {
   "cell_type": "code",
   "execution_count": 53,
   "metadata": {
    "collapsed": false
   },
   "outputs": [],
   "source": [
    "db.restT.create_index(\"retweeted_status.id_str\")\n",
    "stuff = db.restT.aggregate( \n",
    "    [\n",
    "        { \"$match\" : { \"retweeted_status.lang\" : \"en\"}},\n",
    "        { \"$group\" : { \"_id\" : \"$retweeted_status.id_str\",\n",
    "                       \"userid\" : {\"$first\" : \"$retweeted_status.user.id_str\"},\n",
    "                       \"name\": { \"$first\" : \"$retweeted_status.user.name\"},\n",
    "                       \"screen_name\" : {\"$first\" : \"$retweeted_status.user.screen_name\"},\n",
    "                       \"location\" : { \"$first\" : \"retweeted_status.user.location\"},\n",
    "                       \"text\" : { \"$first\" : \"retweeted_status.text\"},\n",
    "                       \"count\" : {\"$sum\" : 1}}},\n",
    "        { \"$sort\" :  { \"count\" : -1}},\n",
    "        { \"$project\" : { \"count\" : 1,\n",
    "                         \"_id\" : 1,\n",
    "                         \"name\" : 1,\n",
    "                         \"screen_name\" : 1,\n",
    "                         \"userid\" : 1}},\n",
    "        { \"$limit\" : 30}\n",
    "    ])"
   ]
  },
  {
   "cell_type": "code",
   "execution_count": 54,
   "metadata": {
    "collapsed": false
   },
   "outputs": [
    {
     "name": "stdout",
     "output_type": "stream",
     "text": [
      "{u'count': 27705, u'_id': u'611020181310025729', u'userid': u'26270913', u'name': u'Golden St. Warriors', u'screen_name': u'warriors'}\n",
      "{u'count': 3607, u'_id': u'611021976379895808', u'userid': u'26270913', u'name': u'Golden St. Warriors', u'screen_name': u'warriors'}\n",
      "{u'count': 1459, u'_id': u'610984655110696962', u'userid': u'26270913', u'name': u'Golden St. Warriors', u'screen_name': u'warriors'}\n",
      "{u'count': 1248, u'_id': u'609182946881339392', u'userid': u'26270913', u'name': u'Golden St. Warriors', u'screen_name': u'warriors'}\n",
      "{u'count': 1172, u'_id': u'609162872892096512', u'userid': u'26270913', u'name': u'Golden St. Warriors', u'screen_name': u'warriors'}\n",
      "{u'count': 1124, u'_id': u'610651339014582274', u'userid': u'26270913', u'name': u'Golden St. Warriors', u'screen_name': u'warriors'}\n",
      "{u'count': 1080, u'_id': u'610217943243190272', u'userid': u'2238576858', u'name': u'Ridiculousness', u'screen_name': u'WeLoveRobDyrdek'}\n",
      "{u'count': 939, u'_id': u'611053800892207104', u'userid': u'26270913', u'name': u'Golden St. Warriors', u'screen_name': u'warriors'}\n",
      "{u'count': 900, u'_id': u'609202168613089280', u'userid': u'487393551', u'name': u'NBA Memes', u'screen_name': u'NBAMemes'}\n",
      "{u'count': 872, u'_id': u'609172508521201665', u'userid': u'26270913', u'name': u'Golden St. Warriors', u'screen_name': u'warriors'}\n",
      "{u'count': 856, u'_id': u'611021060939476992', u'userid': u'8521542', u'name': u'San Francisco Giants', u'screen_name': u'SFGiantsFans'}\n",
      "{u'count': 808, u'_id': u'609204224459673600', u'userid': u'26270913', u'name': u'Golden St. Warriors', u'screen_name': u'warriors'}\n",
      "{u'count': 785, u'_id': u'611029112187187200', u'userid': u'26270913', u'name': u'Golden St. Warriors', u'screen_name': u'warriors'}\n",
      "{u'count': 751, u'_id': u'611024277274365952', u'userid': u'26270913', u'name': u'Golden St. Warriors', u'screen_name': u'warriors'}\n",
      "{u'count': 730, u'_id': u'606514708561199104', u'userid': u'840957998', u'name': u'Sports Wisdom\\u2122', u'screen_name': u'Sports_Wisdom_'}\n",
      "{u'count': 724, u'_id': u'610995278750027777', u'userid': u'26270913', u'name': u'Golden St. Warriors', u'screen_name': u'warriors'}\n",
      "{u'count': 692, u'_id': u'611020643488919552', u'userid': u'31451582', u'name': u'Ricky Rubio', u'screen_name': u'rickyrubio9'}\n",
      "{u'count': 682, u'_id': u'611028459586981888', u'userid': u'313162621', u'name': u'Vine Committee', u'screen_name': u'VineCommittee'}\n",
      "{u'count': 675, u'_id': u'611020185818918912', u'userid': u'487393551', u'name': u'NBA Memes', u'screen_name': u'NBAMemes'}\n",
      "{u'count': 634, u'_id': u'611108479462449152', u'userid': u'330446733', u'name': u'Toni Kroos', u'screen_name': u'ToniKroos'}\n",
      "{u'count': 610, u'_id': u'611020419932520448', u'userid': u'313005140', u'name': u'Lightskin Iverson', u'screen_name': u'JayKingzz_'}\n",
      "{u'count': 598, u'_id': u'610874122487238656', u'userid': u'26270913', u'name': u'Golden St. Warriors', u'screen_name': u'warriors'}\n",
      "{u'count': 580, u'_id': u'611020433647759361', u'userid': u'68577152', u'name': u'The Iron Sheik', u'screen_name': u'the_ironsheik'}\n",
      "{u'count': 531, u'_id': u'611016557947281409', u'userid': u'1049422088', u'name': u'C H R I S \\u26a1\\ufe0f', u'screen_name': u'xoNaps'}\n",
      "{u'count': 524, u'_id': u'610274030545825792', u'userid': u'353060311', u'name': u'Whataburger\\xae', u'screen_name': u'Whataburger'}\n",
      "{u'count': 503, u'_id': u'611232364195229696', u'userid': u'805230144', u'name': u'BIG MONEY MIKE', u'screen_name': u'BIGMONEYMIKE6'}\n",
      "{u'count': 502, u'_id': u'611020641236467712', u'userid': u'831981271', u'name': u'STOP THE ILLUMINATI', u'screen_name': u'Illuminati_Stop'}\n",
      "{u'count': 485, u'_id': u'611020536139894785', u'userid': u'2990999770', u'name': u'Remember My Name', u'screen_name': u'NoFilter_Jay'}\n",
      "{u'count': 483, u'_id': u'610264888422707201', u'userid': u'26270913', u'name': u'Golden St. Warriors', u'screen_name': u'warriors'}\n",
      "{u'count': 473, u'_id': u'610220456939909120', u'userid': u'1321629762', u'name': u'WORLD STAR', u'screen_name': u'WORLDSTARC0MEDY'}\n"
     ]
    }
   ],
   "source": [
    "for things in stuff:\n",
    "    print things\n"
   ]
  },
  {
   "cell_type": "code",
   "execution_count": 49,
   "metadata": {
    "collapsed": false
   },
   "outputs": [],
   "source": [
    "db.restT.create_index(\"retweeted_status.id_str\")\n",
    "stuff = db.restT.aggregate( \n",
    "    [\n",
    "        { \"$match\" : { \"retweeted_status.lang\" : \"en\"}},\n",
    "        { \"$group\" : { \"_id\" : \"$retweeted_status.id_str\",\n",
    "                       \"count\" : {\"$sum\" : 1}}},\n",
    "        { \"$sort\" :  { \"count\" : -1}},\n",
    "        { \"$project\" : { \"count\" : 1,\n",
    "                         \"_id\" : 1,\n",
    "                         \"name\" : 1,\n",
    "                         \"screen_name\" : 1}},\n",
    "        { \"$limit\" : 30}\n",
    "    ])"
   ]
  },
  {
   "cell_type": "code",
   "execution_count": 50,
   "metadata": {
    "collapsed": false
   },
   "outputs": [
    {
     "name": "stdout",
     "output_type": "stream",
     "text": [
      "<class 'pymongo.command_cursor.CommandCursor'>\n",
      "{u'count': 27705, u'_id': u'611020181310025729'}\n",
      "{u'count': 3607, u'_id': u'611021976379895808'}\n",
      "{u'count': 1459, u'_id': u'610984655110696962'}\n",
      "{u'count': 1248, u'_id': u'609182946881339392'}\n",
      "{u'count': 1172, u'_id': u'609162872892096512'}\n",
      "{u'count': 1124, u'_id': u'610651339014582274'}\n",
      "{u'count': 1080, u'_id': u'610217943243190272'}\n",
      "{u'count': 939, u'_id': u'611053800892207104'}\n",
      "{u'count': 900, u'_id': u'609202168613089280'}\n",
      "{u'count': 872, u'_id': u'609172508521201665'}\n",
      "{u'count': 856, u'_id': u'611021060939476992'}\n",
      "{u'count': 808, u'_id': u'609204224459673600'}\n",
      "{u'count': 785, u'_id': u'611029112187187200'}\n",
      "{u'count': 751, u'_id': u'611024277274365952'}\n",
      "{u'count': 730, u'_id': u'606514708561199104'}\n",
      "{u'count': 724, u'_id': u'610995278750027777'}\n",
      "{u'count': 692, u'_id': u'611020643488919552'}\n",
      "{u'count': 682, u'_id': u'611028459586981888'}\n",
      "{u'count': 675, u'_id': u'611020185818918912'}\n",
      "{u'count': 634, u'_id': u'611108479462449152'}\n",
      "{u'count': 610, u'_id': u'611020419932520448'}\n",
      "{u'count': 598, u'_id': u'610874122487238656'}\n",
      "{u'count': 580, u'_id': u'611020433647759361'}\n",
      "{u'count': 531, u'_id': u'611016557947281409'}\n",
      "{u'count': 524, u'_id': u'610274030545825792'}\n",
      "{u'count': 503, u'_id': u'611232364195229696'}\n",
      "{u'count': 502, u'_id': u'611020641236467712'}\n",
      "{u'count': 485, u'_id': u'611020536139894785'}\n",
      "{u'count': 483, u'_id': u'610264888422707201'}\n",
      "{u'count': 473, u'_id': u'610220456939909120'}\n"
     ]
    }
   ],
   "source": [
    "print type(stuff)\n",
    "for things in stuff:\n",
    "    print things"
   ]
  },
  {
   "cell_type": "code",
   "execution_count": null,
   "metadata": {
    "collapsed": true
   },
   "outputs": [],
   "source": []
  }
 ],
 "metadata": {
  "kernelspec": {
   "display_name": "Python 2",
   "language": "python",
   "name": "python2"
  },
  "language_info": {
   "codemirror_mode": {
    "name": "ipython",
    "version": 2
   },
   "file_extension": ".py",
   "mimetype": "text/x-python",
   "name": "python",
   "nbconvert_exporter": "python",
   "pygments_lexer": "ipython2",
   "version": "2.7.6"
  }
 },
 "nbformat": 4,
 "nbformat_minor": 0
}
