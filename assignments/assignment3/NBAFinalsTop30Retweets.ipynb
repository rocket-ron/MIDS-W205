{
 "cells": [
  {
   "cell_type": "code",
   "execution_count": 1,
   "metadata": {
    "collapsed": true
   },
   "outputs": [],
   "source": [
    "from pymongo import MongoClient\n",
    "import re\n",
    "\n",
    "mc = MongoClient('192.168.194.171', port=27017)\n",
    "db = mc.db_restT"
   ]
  },
  {
   "cell_type": "code",
   "execution_count": 113,
   "metadata": {
    "collapsed": false
   },
   "outputs": [
    {
     "name": "stdout",
     "output_type": "stream",
     "text": [
      "201871438\n",
      "1130534810\n",
      "NBA On Def Pen\n",
      "NBAOnDefPen\n",
      "8\n",
      "611345721980256256\n",
      "The Curry's #NBAFinals2015 http://t.co/ZVmvQI7zdD\n",
      "---------------------------------------------------------------\n"
     ]
    }
   ],
   "source": [
    "tweets = db.restT.find(\n",
    "    {\n",
    "        \"retweeted_status.lang\" : \"en\",\n",
    "        \"retweeted_status.user.id_str\" : \"1130534810\"\n",
    "    }\n",
    ").limit(1)\n",
    "for tweet in tweets:\n",
    "    print tweet['user']['id_str']\n",
    "    print tweet['retweeted_status']['user']['id_str']\n",
    "    print tweet['retweeted_status']['user']['name']\n",
    "    print tweet['retweeted_status']['user']['screen_name']\n",
    "    print tweet['retweeted_status']['retweet_count']\n",
    "    print tweet['retweeted_status']['id_str']\n",
    "    print tweet['retweeted_status']['text']\n",
    "    print '---------------------------------------------------------------'"
   ]
  },
  {
   "cell_type": "code",
   "execution_count": 109,
   "metadata": {
    "collapsed": false
   },
   "outputs": [
    {
     "name": "stdout",
     "output_type": "stream",
     "text": [
      "{'text': u'The wait is over \\u2013 Your Golden State #Warriors are #NBA CHAMPIONS!!! #GSW #NBAFinals http://t.co/3xxxrnJbJN', 'author_id': u'26270913', 'retweeter': {'user': u'1595719178'}, 'id_str': u'611020181310025729'}\n"
     ]
    }
   ],
   "source": [
    "retweets = {}\n",
    "tweets = db.restT.find(\n",
    "    {\n",
    "        \"retweeted_status.lang\" : \"en\",\n",
    "    }\n",
    ").limit(1)\n",
    "for tweet in tweets:\n",
    "    retweets['author_id'] = tweet['retweeted_status']['user']['id_str']\n",
    "    retweets['text']      = tweet['retweeted_status']['text']\n",
    "    retweets['id_str']    = tweet['retweeted_status']['id_str']\n",
    "    retweets['retweeter'] = {'user' : tweet['user']['id_str']}\n",
    "    print str(retweets)\n",
    "#    db.retweets.insert(retweet)"
   ]
  },
  {
   "cell_type": "code",
   "execution_count": 95,
   "metadata": {
    "collapsed": false
   },
   "outputs": [
    {
     "name": "stdout",
     "output_type": "stream",
     "text": [
      "{u'contributors': None, u'truncated': False, u'text': u'#LeBronsDick live at the #NBAFinals2015 \\U0001f602 http://t.co/Uy4QSUMwfJ', u'is_quote_status': False, u'in_reply_to_status_id': None, u'id': 609203651282882560L, u'favorite_count': 88, u'source': u'<a href=\"http://twitter.com/download/iphone\" rel=\"nofollow\">Twitter for iPhone</a>', u'retweeted': False, u'coordinates': None, u'entities': {u'symbols': [], u'user_mentions': [], u'hashtags': [{u'indices': [0, 12], u'text': u'LeBronsDick'}, {u'indices': [25, 39], u'text': u'NBAFinals2015'}], u'urls': [], u'media': [{u'expanded_url': u'http://twitter.com/FashionistaKika/status/609203651282882560/photo/1', u'display_url': u'pic.twitter.com/Uy4QSUMwfJ', u'url': u'http://t.co/Uy4QSUMwfJ', u'media_url_https': u'https://pbs.twimg.com/media/CHRTfLmUAAAWwrr.jpg', u'id_str': u'609203644756393984', u'sizes': {u'small': {u'h': 396, u'w': 340, u'resize': u'fit'}, u'large': {u'h': 670, u'w': 574, u'resize': u'fit'}, u'medium': {u'h': 670, u'w': 574, u'resize': u'fit'}, u'thumb': {u'h': 150, u'w': 150, u'resize': u'crop'}}, u'indices': [42, 64], u'type': u'photo', u'id': 609203644756393984L, u'media_url': u'http://pbs.twimg.com/media/CHRTfLmUAAAWwrr.jpg'}]}, u'in_reply_to_screen_name': None, u'id_str': u'609203651282882560', u'retweet_count': 94, u'in_reply_to_user_id': None, u'favorited': False, u'user': {u'follow_request_sent': None, u'profile_use_background_image': True, u'id': 228875931, u'verified': False, u'profile_text_color': u'333333', u'profile_image_url_https': u'https://pbs.twimg.com/profile_images/608694520746749953/z9p687pa_normal.jpg', u'profile_sidebar_fill_color': u'EFEFEF', u'is_translator': False, u'entities': {u'description': {u'urls': []}}, u'followers_count': 12119, u'protected': False, u'location': u'New York City', u'default_profile_image': False, u'id_str': u'228875931', u'lang': u'en', u'utc_offset': None, u'statuses_count': 31591, u'description': u'22 and im stronger than i ever been.', u'friends_count': 11220, u'profile_background_image_url_https': u'https://abs.twimg.com/images/themes/theme14/bg.gif', u'profile_link_color': u'009999', u'profile_image_url': u'http://pbs.twimg.com/profile_images/608694520746749953/z9p687pa_normal.jpg', u'notifications': None, u'geo_enabled': True, u'profile_background_color': u'131516', u'profile_banner_url': u'https://pbs.twimg.com/profile_banners/228875931/1434479310', u'profile_background_image_url': u'http://abs.twimg.com/images/themes/theme14/bg.gif', u'name': u'\\u2661', u'is_translation_enabled': False, u'profile_background_tile': True, u'favourites_count': 4927, u'screen_name': u'FashionistaKika', u'url': None, u'created_at': u'Mon Dec 20 22:48:32 +0000 2010', u'contributors_enabled': False, u'time_zone': None, u'profile_sidebar_border_color': u'EEEEEE', u'default_profile': False, u'following': None, u'listed_count': 22}, u'geo': None, u'in_reply_to_user_id_str': None, u'possibly_sensitive': False, u'lang': u'en', u'created_at': u'Fri Jun 12 03:40:43 +0000 2015', u'metadata': {u'iso_language_code': u'en', u'result_type': u'recent'}, u'in_reply_to_status_id_str': None, u'place': None, u'_id': ObjectId('55a2eddb86395f10e6de5479')}\n"
     ]
    }
   ],
   "source": [
    "retweets = db.retweet.find()\n",
    "for retweet in retweets:\n",
    "    print retweet"
   ]
  },
  {
   "cell_type": "code",
   "execution_count": 136,
   "metadata": {
    "collapsed": false
   },
   "outputs": [],
   "source": [
    "stuff = db.restT.aggregate( \n",
    "    [\n",
    "        { \"$match\" : { \"retweeted_status.lang\" : \"en\"}},\n",
    "        { \"$group\" : { \"_id\" : {\"userid\" : \"$retweeted_status.user.id_str\", \n",
    "                                \"username\" : \"$retweeted_status.user.name\", \n",
    "                                \"loc\" : \"$retweeted_status.user.location\",\n",
    "                                \"text\" : \"$retweeted_status.text\"},\n",
    "                       \"totRetweets\" : {\"$sum\" : 1 }}},\n",
    "        { \"$sort\" : {\"totRetweets\" : -1}},\n",
    "        { \"$limit\" : 30}\n",
    "    ])"
   ]
  },
  {
   "cell_type": "code",
   "execution_count": 137,
   "metadata": {
    "collapsed": false
   },
   "outputs": [
    {
     "name": "stdout",
     "output_type": "stream",
     "text": [
      "{u'_id': {u'username': u'Golden St. Warriors', u'loc': u'Oakland, CA', u'userid': u'26270913', u'text': u'The wait is over \\u2013 Your Golden State #Warriors are #NBA CHAMPIONS!!! #GSW #NBAFinals http://t.co/3xxxrnJbJN'}, u'totRetweets': 27705}\n",
      "{u'_id': {u'username': u'Golden St. Warriors', u'loc': u'Oakland, CA', u'userid': u'26270913', u'text': u'The #Warriors have won their first NBA Championship in 40 years after defeating the Cavs 105-97 in Game 6. http://t.co/kLe2TzALQu'}, u'totRetweets': 3607}\n",
      "{u'_id': {u'username': u'Golden St. Warriors', u'loc': u'Oakland, CA', u'userid': u'26270913', u'text': u'#Warriors close 1Q out on 8-0 run to take a 13-point lead into the startof 2Q. #StrengthInNumbers #GSW #NBAFinals http://t.co/0fKJzzwiHa'}, u'totRetweets': 1459}\n",
      "{u'_id': {u'username': u'Golden St. Warriors', u'loc': u'Oakland, CA', u'userid': u'26270913', u'text': u'#Warriors hit 6 treys in first half and take a 12-point lead into the half. #NBAFinals #DubNation #StrengthInNumbers http://t.co/1S8Val6dKR'}, u'totRetweets': 1248}\n",
      "{u'_id': {u'username': u'Golden St. Warriors', u'loc': u'Oakland, CA', u'userid': u'26270913', u'text': u\"Tonight's #Warriors starters:\\nG - @StephenCurry30\\nG - @KlayThompson\\nF - @hbarnes\\nF - @Money23Green\\nF - @andre\\n#StrengthInNumbers\"}, u'totRetweets': 1172}\n",
      "{u'_id': {u'username': u'Golden St. Warriors', u'loc': u'Oakland, CA', u'userid': u'26270913', u'text': u'The #Warriors are set to face the Cavaliers in Game 6 of the #NBAFinals on Tuesday night in Cleveland.\\nhttps://t.co/bu12LnXfGR'}, u'totRetweets': 1124}\n",
      "{u'_id': {u'username': u'Ridiculousness', u'loc': u'warning: 18+ content', u'userid': u'2238576858', u'text': u'Who Are You Going For Tonight.\\nRt For #Warriors\\nFav For #Cavaliers http://t.co/NDLl1jv2CU'}, u'totRetweets': 1080}\n",
      "{u'_id': {u'username': u'Golden St. Warriors', u'loc': u'Oakland, CA', u'userid': u'26270913', u'text': u'The #Warriors take the NBA title in Cleveland after beating the Cavs in Game 6 of the #NBAFinals.\\nhttps://t.co/7I3eVUS4hl'}, u'totRetweets': 939}\n",
      "{u'_id': {u'username': u'NBA Memes', u'loc': u'', u'userid': u'487393551', u'text': u'Joey Crawford right now to LeBron James.\\n\\n#Cavs #Warriors http://t.co/4dB5oasByJ'}, u'totRetweets': 900}\n",
      "{u'_id': {u'username': u'Golden St. Warriors', u'loc': u'Oakland, CA', u'userid': u'26270913', u'text': u'#Warriors erase early 7-0 hole and take a seven-point lead at the end of 1Q. #NBAFinals #DubNation #StrengthInNumbers http://t.co/fbK7qmgZK1'}, u'totRetweets': 872}\n",
      "{u'_id': {u'username': u'San Francisco Giants', u'loc': u'San Francisco, CA', u'userid': u'8521542', u'text': u'BUSTER HUGS! #DubNation #Warriors #SFGiants #BusterHugs http://t.co/aGeSiZpF7H'}, u'totRetweets': 856}\n",
      "{u'_id': {u'username': u'Golden St. Warriors', u'loc': u'Oakland, CA', u'userid': u'26270913', u'text': u'#Warriors out-scoring @cavs 24-9 in 4Q. #GSW up by 21 w/ 2:08 left in 4Q. #StrengthInNumbers #NBAFinals'}, u'totRetweets': 808}\n",
      "{u'_id': {u'username': u'Golden St. Warriors', u'loc': u'Oakland, CA', u'userid': u'26270913', u'text': u'Nice bit of decor in #Warriors Championship locker room. #StrengthInNumbers http://t.co/VyYjFzLM3E'}, u'totRetweets': 785}\n",
      "{u'_id': {u'username': u'Golden St. Warriors', u'loc': u'Oakland, CA', u'userid': u'26270913', u'text': u'The #Warriors are @NBA Champions! Celebrate with the locker room tee right here in this tweet! #NBAFinals http://t.co/t45zazC7X1'}, u'totRetweets': 751}\n",
      "{u'_id': {u'username': u'Sports Wisdom\\u2122', u'loc': u'E.S.T 9-22-12', u'userid': u'840957998', u'text': u'Who will win the NBA Finals? \\nRetweet for the Warriors\\nFavorite for the Cavaliers \\n#NBAFinals2015'}, u'totRetweets': 730}\n",
      "{u'_id': {u'username': u'Golden St. Warriors', u'loc': u'Oakland, CA', u'userid': u'26270913', u'text': u'. @cavs answer back in 2Q &amp; what was a 13-point #Warriors advantage is cut to two at the break. #NBAFinals http://t.co/dkbbk2pumb'}, u'totRetweets': 724}\n",
      "{u'_id': {u'username': u'Ricky Rubio', u'loc': u'El Masnou', u'userid': u'31451582', u'text': u'Congratulations to the #Warriors What an incredible season they had. They deserve it. #NBAChamps'}, u'totRetweets': 692}\n",
      "{u'_id': {u'username': u'Vine Committee', u'loc': u'Vine: VineCommittee', u'userid': u'313162621', u'text': u'Steph curry drops stone cold stunner or the cavaliers \\U0001f602\\U0001f602\\U0001f480 #Warriors https://t.co/WW1JyxzPdh'}, u'totRetweets': 682}\n",
      "{u'_id': {u'username': u'NBA Memes', u'loc': u'', u'userid': u'487393551', u'text': u'Dwyane Wade &amp; Chris Bosh after watching LeBron James lose in the 2015 #NBAFinals.\\n\\n#Heat #Cavs #Warriors http://t.co/FtiT094VQE'}, u'totRetweets': 675}\n",
      "{u'_id': {u'username': u'Toni Kroos', u'loc': u'', u'userid': u'330446733', u'text': u'Well deserved @warriors !!! The best team of the year. #NBAFinals2015'}, u'totRetweets': 634}\n",
      "{u'_id': {u'username': u'Lightskin Iverson', u'loc': u'Philadelphia', u'userid': u'313005140', u'text': u'Congrats to the #GSW #NBAFinals2015'}, u'totRetweets': 610}\n",
      "{u'_id': {u'username': u'Golden St. Warriors', u'loc': u'Oakland, CA', u'userid': u'26270913', u'text': u'The #Warriors got back to work in Cleveland this morning in preparation for Game 6 of the #NBAFinals tonight.\\nhttps://t.co/zvEqcXX9qp'}, u'totRetweets': 598}\n",
      "{u'_id': {u'username': u'The Iron Sheik', u'loc': u'USA Bubba', u'userid': u'68577152', u'text': u'SETH CURRY HAVE THE SEX TONIGHT WITH ANYBODY HE WANT #NBAFinals2015'}, u'totRetweets': 580}\n",
      "{u'_id': {u'username': u'C H R I S \\u26a1\\ufe0f', u'loc': u'r\\u03b9dgeland, \\u043c\\u0455', u'userid': u'1049422088', u'text': u'Warriors! #NBAFinals2015 #GSW'}, u'totRetweets': 531}\n",
      "{u'_id': {u'username': u'Whataburger\\xae', u'loc': u'', u'userid': u'353060311', u'text': u'Steph Curry is the NBA equivalent of a Honey Butter Chicken Biscuit #Warriors #NBAFinals'}, u'totRetweets': 524}\n",
      "{u'_id': {u'username': u'BIG MONEY MIKE', u'loc': u'bigmoneymike6@gmail.com', u'userid': u'805230144', u'text': u'I SHOULD BE THE MVP OF THE #NBAFinals2015 \\n\\n#TEAMBILLIONAIRE\\n\\n#BMM\\n\\n#PENNYSTOCKS \\n\\n#TEAMFAM\\n\\nJOIN OUR NETWORK: \\npennystockroyalty@gmail.com'}, u'totRetweets': 503}\n",
      "{u'_id': {u'username': u'STOP THE ILLUMINATI', u'loc': u'Snapchat- illuminati_stop', u'userid': u'831981271', u'text': u'100% PROOF THAT THE GOLDEN STATE WARRIORS RIGGED THE FINALS TO WIN THE NBA CHAMPIONSHIP. #NBAFinals2015 #NBAFinals http://t.co/50UTtFzlnv'}, u'totRetweets': 502}\n",
      "{u'_id': {u'username': u'Remember My Name', u'loc': u'Philadelphia', u'userid': u'2990999770', u'text': u'Lightskins win again #NBAFinals2015'}, u'totRetweets': 485}\n",
      "{u'_id': {u'username': u'Golden St. Warriors', u'loc': u'Oakland, CA', u'userid': u'26270913', u'text': u'#Warriors retake the lead! #Splash (ABC) http://t.co/hQMTVjOjO0'}, u'totRetweets': 483}\n",
      "{u'_id': {u'username': u'WSHH', u'loc': u'warning: 18+ content. ', u'userid': u'2808663432', u'text': u'Who Are You Going For Tonight.\\nRt For #Warriors\\nFav For #Cavaliers http://t.co/OQPDAsayuh'}, u'totRetweets': 473}\n"
     ]
    }
   ],
   "source": [
    "for things in stuff:\n",
    "    print things\n"
   ]
  },
  {
   "cell_type": "code",
   "execution_count": 106,
   "metadata": {
    "collapsed": false
   },
   "outputs": [
    {
     "name": "stdout",
     "output_type": "stream",
     "text": [
      "{u'_id': u'27189557', u'totRetweets': 6154}\n"
     ]
    }
   ],
   "source": [
    "print stuff.next()"
   ]
  },
  {
   "cell_type": "code",
   "execution_count": null,
   "metadata": {
    "collapsed": true
   },
   "outputs": [],
   "source": []
  },
  {
   "cell_type": "code",
   "execution_count": null,
   "metadata": {
    "collapsed": true
   },
   "outputs": [],
   "source": []
  }
 ],
 "metadata": {
  "kernelspec": {
   "display_name": "Python 2",
   "language": "python",
   "name": "python2"
  },
  "language_info": {
   "codemirror_mode": {
    "name": "ipython",
    "version": 2
   },
   "file_extension": ".py",
   "mimetype": "text/x-python",
   "name": "python",
   "nbconvert_exporter": "python",
   "pygments_lexer": "ipython2",
   "version": "2.7.6"
  }
 },
 "nbformat": 4,
 "nbformat_minor": 0
}
