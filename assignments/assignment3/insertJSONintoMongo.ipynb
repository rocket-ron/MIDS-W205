{
 "cells": [
  {
   "cell_type": "code",
   "execution_count": 15,
   "metadata": {
    "collapsed": true
   },
   "outputs": [],
   "source": [
    "import sys\n",
    "from boto.s3.connection import S3Connection\n",
    "from boto.s3.key import Key\n",
    "\n",
    "from pymongo import MongoClient\n",
    "import json\n",
    "\n",
    "conn = S3Connection(host=\"s3-us-west-1.amazonaws.com\")\n",
    "bucket = conn.get_bucket('w205-assignment2-rc-data')\n",
    "\n",
    "mongoClient = MongoClient('192.168.194.171', port=27017)\n"
   ]
  },
  {
   "cell_type": "code",
   "execution_count": 16,
   "metadata": {
    "collapsed": false
   },
   "outputs": [],
   "source": [
    "db = mongoClient.db_restT\n"
   ]
  },
  {
   "cell_type": "code",
   "execution_count": 17,
   "metadata": {
    "collapsed": false
   },
   "outputs": [],
   "source": [
    "for k in bucket.get_all_keys(prefix='WarriorsAndNBAFinals2015'):\n",
    "    if ('.json' in k.name):\n",
    "        chunk = json.loads(k.get_contents_as_string())\n",
    "        db.test.insert_many(chunk)"
   ]
  },
  {
   "cell_type": "code",
   "execution_count": 18,
   "metadata": {
    "collapsed": true
   },
   "outputs": [],
   "source": [
    "conn.close()"
   ]
  },
  {
   "cell_type": "code",
   "execution_count": 19,
   "metadata": {
    "collapsed": false
   },
   "outputs": [
    {
     "data": {
      "text/plain": [
       "{u'_id': ObjectId('55a1f55e86395f0bfbc6bf7d'),\n",
       " u'contributors': None,\n",
       " u'coordinates': None,\n",
       " u'created_at': u'Wed Jun 17 03:03:58 +0000 2015',\n",
       " u'entities': {u'hashtags': [{u'indices': [74, 88], u'text': u'NBAFinals2015'},\n",
       "   {u'indices': [90, 99], u'text': u'warriors'}],\n",
       "  u'symbols': [],\n",
       "  u'urls': [],\n",
       "  u'user_mentions': []},\n",
       " u'favorite_count': 0,\n",
       " u'favorited': False,\n",
       " u'geo': None,\n",
       " u'id': 611006342824726528L,\n",
       " u'id_str': u'611006342824726528',\n",
       " u'in_reply_to_screen_name': None,\n",
       " u'in_reply_to_status_id': None,\n",
       " u'in_reply_to_status_id_str': None,\n",
       " u'in_reply_to_user_id': None,\n",
       " u'in_reply_to_user_id_str': None,\n",
       " u'is_quote_status': False,\n",
       " u'lang': u'en',\n",
       " u'metadata': {u'iso_language_code': u'en', u'result_type': u'recent'},\n",
       " u'place': None,\n",
       " u'retweet_count': 0,\n",
       " u'retweeted': False,\n",
       " u'source': u'<a href=\"http://twitter.com/download/iphone\" rel=\"nofollow\">Twitter for iPhone</a>',\n",
       " u'text': u'How bout some love for a former SEC player...FESTUS! \"InFESTing\" the Cavs #NBAFinals2015  #warriors',\n",
       " u'truncated': False,\n",
       " u'user': {u'contributors_enabled': False,\n",
       "  u'created_at': u'Fri Jul 01 02:36:30 +0000 2011',\n",
       "  u'default_profile': False,\n",
       "  u'default_profile_image': False,\n",
       "  u'description': u'Purveyor of non-commodified music, as pianist, teacher (University of South Carolina), arts administrator. Proud resident of #columbiasc, citizen of the world.',\n",
       "  u'entities': {u'description': {u'urls': []}},\n",
       "  u'favourites_count': 14,\n",
       "  u'follow_request_sent': None,\n",
       "  u'followers_count': 259,\n",
       "  u'following': None,\n",
       "  u'friends_count': 207,\n",
       "  u'geo_enabled': True,\n",
       "  u'id': 327151632,\n",
       "  u'id_str': u'327151632',\n",
       "  u'is_translation_enabled': False,\n",
       "  u'is_translator': False,\n",
       "  u'lang': u'en',\n",
       "  u'listed_count': 9,\n",
       "  u'location': u'Columbia, SC',\n",
       "  u'name': u'Phillip Bush',\n",
       "  u'notifications': None,\n",
       "  u'profile_background_color': u'022330',\n",
       "  u'profile_background_image_url': u'http://pbs.twimg.com/profile_background_images/378800000041848753/2cc2b03fa67d253c7ab174c1741d4ca9.jpeg',\n",
       "  u'profile_background_image_url_https': u'https://pbs.twimg.com/profile_background_images/378800000041848753/2cc2b03fa67d253c7ab174c1741d4ca9.jpeg',\n",
       "  u'profile_background_tile': True,\n",
       "  u'profile_banner_url': u'https://pbs.twimg.com/profile_banners/327151632/1401853907',\n",
       "  u'profile_image_url': u'http://pbs.twimg.com/profile_images/581021131840192512/f_KcXLOM_normal.jpg',\n",
       "  u'profile_image_url_https': u'https://pbs.twimg.com/profile_images/581021131840192512/f_KcXLOM_normal.jpg',\n",
       "  u'profile_link_color': u'0084B4',\n",
       "  u'profile_sidebar_border_color': u'FFFFFF',\n",
       "  u'profile_sidebar_fill_color': u'C0DFEC',\n",
       "  u'profile_text_color': u'333333',\n",
       "  u'profile_use_background_image': True,\n",
       "  u'protected': False,\n",
       "  u'screen_name': u'PhillipBush',\n",
       "  u'statuses_count': 701,\n",
       "  u'time_zone': u'Atlantic Time (Canada)',\n",
       "  u'url': None,\n",
       "  u'utc_offset': -10800,\n",
       "  u'verified': False}}"
      ]
     },
     "execution_count": 19,
     "metadata": {},
     "output_type": "execute_result"
    }
   ],
   "source": [
    "db.test.find_one()\n"
   ]
  },
  {
   "cell_type": "markdown",
   "metadata": {},
   "source": [
    "mongoClient.close()"
   ]
  },
  {
   "cell_type": "code",
   "execution_count": 20,
   "metadata": {
    "collapsed": true
   },
   "outputs": [],
   "source": [
    "mongoClient.close()"
   ]
  },
  {
   "cell_type": "code",
   "execution_count": null,
   "metadata": {
    "collapsed": true
   },
   "outputs": [],
   "source": []
  }
 ],
 "metadata": {
  "kernelspec": {
   "display_name": "Python 2",
   "language": "python",
   "name": "python2"
  },
  "language_info": {
   "codemirror_mode": {
    "name": "ipython",
    "version": 2
   },
   "file_extension": ".py",
   "mimetype": "text/x-python",
   "name": "python",
   "nbconvert_exporter": "python",
   "pygments_lexer": "ipython2",
   "version": "2.7.6"
  }
 },
 "nbformat": 4,
 "nbformat_minor": 0
}
