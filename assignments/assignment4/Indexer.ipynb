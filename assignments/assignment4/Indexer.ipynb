{
 "cells": [
  {
   "cell_type": "code",
   "execution_count": 38,
   "metadata": {
    "collapsed": true
   },
   "outputs": [],
   "source": [
    "from boto.s3.connection import S3Connection\n",
    "from boto.s3.key import Key\n",
    "import StringIO\n",
    "\n",
    "\n",
    "conn = S3Connection(host=\"s3-us-west-1.amazonaws.com\")\n",
    "bucket = conn.get_bucket('w205-rcordell-assignment4')\n",
    "key = bucket.get_key('WC2015.csv')\n",
    "contents = StringIO.StringIO(key.get_contents_as_string())"
   ]
  },
  {
   "cell_type": "code",
   "execution_count": 39,
   "metadata": {
    "collapsed": true
   },
   "outputs": [],
   "source": [
    "from whoosh.index import create_in\n",
    "from whoosh.fields import *\n",
    "schema = Schema(content=TEXT(stored=True), \n",
    "\t\t\t\ttweetid=ID(stored=True), \n",
    "\t\t\t\tuser=TEXT(stored=True), \n",
    "\t\t\t\tuserid=ID(stored=True), \n",
    "\t\t\t\tdate=DATETIME(stored=True))\n"
   ]
  },
  {
   "cell_type": "code",
   "execution_count": 40,
   "metadata": {
    "collapsed": false
   },
   "outputs": [],
   "source": [
    "ix = create_in(\"indexdir\", schema)\n",
    "writer = ix.writer()"
   ]
  },
  {
   "cell_type": "code",
   "execution_count": 41,
   "metadata": {
    "collapsed": false
   },
   "outputs": [],
   "source": [
    "from time import mktime\n",
    "from time import gmtime\n",
    "from datetime import datetime\n",
    "first = True\n",
    "while True:\n",
    "    line = contents.readline()\n",
    "    if not line:\n",
    "        break\n",
    "    if first:\n",
    "        first = False\n",
    "        continue\n",
    "    fields = line.split(\"|\")\n",
    "    writer.add_document(content=unicode(fields[4]),\n",
    "                        tweetid=unicode(fields[0]),\n",
    "                        userid=unicode(fields[1]), \n",
    "                        user=unicode(fields[3]), \n",
    "                        date=datetime.fromtimestamp(mktime(gmtime(int(fields[5])))))\n",
    "\n"
   ]
  },
  {
   "cell_type": "code",
   "execution_count": 42,
   "metadata": {
    "collapsed": true
   },
   "outputs": [],
   "source": [
    "writer.commit()\n",
    "contents.close()\n",
    "key.close()"
   ]
  },
  {
   "cell_type": "code",
   "execution_count": 57,
   "metadata": {
    "collapsed": false
   },
   "outputs": [
    {
     "name": "stdout",
     "output_type": "stream",
     "text": [
      "<Hit {'content': u'Keep the flag flying RT- RT #ENG #FIFAWWC FRANTASTIC pic.twitter.com/59tA3KsZWI', 'date': datetime.datetime(2015, 7, 4, 23, 43, 28), 'userid': u'146234261', 'user': u'Pinkkimmy1', 'tweetid': u'617463766771474432'}>\n"
     ]
    }
   ],
   "source": [
    "from whoosh.qparser import QueryParser\n",
    "with ix.searcher() as searcher:\n",
    "    query = QueryParser(\"content\", ix.schema).parse(u\"- RT\")\n",
    "    results = searcher.search(query)\n",
    "    print results[0]"
   ]
  },
  {
   "cell_type": "code",
   "execution_count": null,
   "metadata": {
    "collapsed": true
   },
   "outputs": [],
   "source": []
  }
 ],
 "metadata": {
  "kernelspec": {
   "display_name": "Python 2",
   "language": "python",
   "name": "python2"
  },
  "language_info": {
   "codemirror_mode": {
    "name": "ipython",
    "version": 2
   },
   "file_extension": ".py",
   "mimetype": "text/x-python",
   "name": "python",
   "nbconvert_exporter": "python",
   "pygments_lexer": "ipython2",
   "version": "2.7.6"
  }
 },
 "nbformat": 4,
 "nbformat_minor": 0
}
