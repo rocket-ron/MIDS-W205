{
 "cells": [
  {
   "cell_type": "code",
   "execution_count": null,
   "metadata": {
    "collapsed": false
   },
   "outputs": [],
   "source": [
    "from boto.s3.connection import S3Connection\n",
    "from boto.s3.key import Key\n",
    "\n",
    "conn = S3Connection(host=\"s3-us-west-1.amazonaws.com\")\n",
    "bucket = conn.get_bucket('w205-rcordell-assignment4')"
   ]
  },
  {
   "cell_type": "code",
   "execution_count": null,
   "metadata": {
    "collapsed": true
   },
   "outputs": [],
   "source": [
    "keys = bucket.get_all_keys(prefix='problem4')"
   ]
  },
  {
   "cell_type": "code",
   "execution_count": null,
   "metadata": {
    "collapsed": false
   },
   "outputs": [],
   "source": [
    "import re\n",
    "import StringIO\n",
    "\n",
    "extract_re = re.compile(r'^\\[\"(.*)\", \"(.*)\"\\][\\t](\\d+)')\n",
    "\n",
    "assoc = {}\n",
    "for key in keys:\n",
    "    if key.name == '_SUCCESS':\n",
    "        continue\n",
    "    else:\n",
    "        print key.name\n",
    "        contents = StringIO.StringIO(key.get_contents_as_string())\n",
    "        while True:\n",
    "            line=contents.readline()\n",
    "            if not line:\n",
    "                break\n",
    "            match = extract_re.search(line)\n",
    "            if match:\n",
    "                assoc[(match.group(1),match.group(2))] = int(match.group(3))\n",
    "            else:\n",
    "                print (line)\n",
    "                break\n",
    "        contents.close()\n",
    "        key.close()\n",
    "            "
   ]
  },
  {
   "cell_type": "code",
   "execution_count": null,
   "metadata": {
    "collapsed": false
   },
   "outputs": [],
   "source": [
    "assoc_sorted_keys = sorted(assoc, key=assoc.get, reverse=True)"
   ]
  },
  {
   "cell_type": "code",
   "execution_count": null,
   "metadata": {
    "collapsed": false
   },
   "outputs": [],
   "source": [
    "i = 0\n",
    "for key in assoc_sorted_keys:\n",
    "    print key, assoc[key]\n",
    "    i += 1\n",
    "    if i > 50:\n",
    "        break"
   ]
  },
  {
   "cell_type": "code",
   "execution_count": null,
   "metadata": {
    "collapsed": false
   },
   "outputs": [],
   "source": [
    "print assoc[('USA','Japan')]"
   ]
  },
  {
   "cell_type": "code",
   "execution_count": null,
   "metadata": {
    "collapsed": false
   },
   "outputs": [],
   "source": [
    "print assoc[('champions', 'USA')]"
   ]
  },
  {
   "cell_type": "code",
   "execution_count": null,
   "metadata": {
    "collapsed": true
   },
   "outputs": [],
   "source": []
  }
 ],
 "metadata": {
  "kernelspec": {
   "display_name": "Python 2",
   "language": "python",
   "name": "python2"
  },
  "language_info": {
   "codemirror_mode": {
    "name": "ipython",
    "version": 2
   },
   "file_extension": ".py",
   "mimetype": "text/x-python",
   "name": "python",
   "nbconvert_exporter": "python",
   "pygments_lexer": "ipython2",
   "version": "2.7.6"
  }
 },
 "nbformat": 4,
 "nbformat_minor": 0
}
