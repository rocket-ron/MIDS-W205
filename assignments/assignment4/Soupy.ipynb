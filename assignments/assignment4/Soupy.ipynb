{
 "cells": [
  {
   "cell_type": "code",
   "execution_count": null,
   "metadata": {
    "collapsed": false
   },
   "outputs": [],
   "source": [
    "import requests\n",
    "\n",
    "r = requests.get('https://twitter.com/search?q=%23FIFAWWC%20lang%3Aen%20since%3A2015-06-05%20until%3A2015-07-05&src=typd&lang=en')"
   ]
  },
  {
   "cell_type": "code",
   "execution_count": null,
   "metadata": {
    "collapsed": false
   },
   "outputs": [],
   "source": [
    "r.text"
   ]
  },
  {
   "cell_type": "code",
   "execution_count": null,
   "metadata": {
    "collapsed": true
   },
   "outputs": [],
   "source": [
    "from bs4 import BeautifulSoup\n",
    "soup = BeautifulSoup(r.text, 'html.parser')"
   ]
  },
  {
   "cell_type": "code",
   "execution_count": null,
   "metadata": {
    "collapsed": false
   },
   "outputs": [],
   "source": [
    "print soup.prettify()"
   ]
  },
  {
   "cell_type": "code",
   "execution_count": null,
   "metadata": {
    "collapsed": false
   },
   "outputs": [],
   "source": [
    "for item in soup.find_all(\"li\", attrs = {\"class\" : \"js-stream-item stream-item stream-item expanding-stream-item\\n\"}):\n",
    "    print item.find(\"div\", attrs = {\"class\" : \"tweet original-tweet js-original-tweet js-stream-tweet js-actionable-tweet js-profile-popup-actionable  \\n\\n\\n\\n\\n\\n\\n\\n\\n\\n\\n\\n\\n\\n\\n\\n\\n\\n\\n\\n\\n with-non-tweet-action-follow-button\"})\n",
    "    print item.find(\"div\", attrs = {\"class\":\"content\"}).p.text\n",
    "    "
   ]
  },
  {
   "cell_type": "code",
   "execution_count": null,
   "metadata": {
    "collapsed": false
   },
   "outputs": [],
   "source": [
    "streamContainerTag = soup.find(\"div\", attrs={\"class\":\"stream-container\"})\n",
    "max_position = streamContainerTag['data-max-position']\n",
    "min_position = streamContainerTag['data-min-position']\n",
    "print max_position\n",
    "print min_position"
   ]
  },
  {
   "cell_type": "code",
   "execution_count": null,
   "metadata": {
    "collapsed": false
   },
   "outputs": [],
   "source": [
    "import logging\n",
    "import httplib as http_client\n",
    "http_client.HTTPConnection.debuglevel = 1\n",
    "logging.basicConfig()\n",
    "logging.getLogger().setLevel(logging.DEBUG)\n",
    "requests_log = logging.getLogger(\"requests.packages.urllib3\")\n",
    "requests_log.setLevel(logging.DEBUG)\n",
    "requests_log.propogate = True\n",
    "#FIFA AND (#USA OR #CAN OR #MEX OR #CRC OR #COL OR #ECU OR #BRA OR #NGA OR #CMR OR #CIV OR #GER OR #ESP OR #ENG OR #FRA OR #SUI OR #NED OR #SWE OR #NOR OR #JPN OR #KOR OR #CHN OR #THA OR #AUS OR #NZL) \n",
    "query = '#FIFAWWC AND (#USA OR #CAN OR #MEX OR #CRC OR #COL OR #ECU OR #BRA OR #NGA OR #CMR OR #CIV OR #GER OR #ESP OR #ENG OR #FRA OR #SUI OR #NED OR #SWE OR #NOR OR #JPN OR #KOR OR #CHN OR #THA OR #AUS OR #NZL) lang:en since:2015-06-05 until:2015-07-06'\n",
    "url = 'https://twitter.com/i/search/timeline'\n",
    "\n",
    "payload = { 'q' : query,\n",
    "            'f':'tweets',\n",
    "            'src':'typd',\n",
    "            'lang':'en'\n",
    "        }\n",
    "\n",
    "r = requests.get(url, payload)"
   ]
  },
  {
   "cell_type": "code",
   "execution_count": null,
   "metadata": {
    "collapsed": false
   },
   "outputs": [],
   "source": [
    "import json\n",
    "tweetdata = r.json()"
   ]
  },
  {
   "cell_type": "code",
   "execution_count": null,
   "metadata": {
    "collapsed": false
   },
   "outputs": [],
   "source": [
    "tweetSoup = BeautifulSoup(tweetdata['items_html'], 'html.parser')\n",
    "tweets = {}\n",
    "first_tweet = None\n",
    "last_tweet = ''"
   ]
  },
  {
   "cell_type": "code",
   "execution_count": null,
   "metadata": {
    "collapsed": false
   },
   "outputs": [],
   "source": [
    "\n",
    "for item in tweetSoup.find_all(\"li\", attrs = {\"data-item-type\":\"tweet\"}):\n",
    "    tweet = {}\n",
    "    user = {}\n",
    "    if not first_tweet:\n",
    "        first_tweet = item['data-item-id']\n",
    "    last_tweet = item['data-item-id']\n",
    "    tweet['id_str'] = item['data-item-id']\n",
    "    user['id_str'] = item.div['data-user-id']\n",
    "    user['name'] = item.div['data-name']\n",
    "    user['screen_name'] = item.div['data-screen-name']\n",
    "    tweet['text'] = item.find(\"div\", attrs = {\"class\":\"content\"}).p.text\n",
    "    tweet['user'] = user\n",
    "    tweets[item['data-item-id']] = tweet"
   ]
  },
  {
   "cell_type": "code",
   "execution_count": null,
   "metadata": {
    "collapsed": false
   },
   "outputs": [],
   "source": [
    "for t in tweets:\n",
    "    print tweets[t]\n",
    "    \n",
    "print first_tweet\n",
    "print last_tweet"
   ]
  },
  {
   "cell_type": "code",
   "execution_count": null,
   "metadata": {
    "collapsed": false
   },
   "outputs": [],
   "source": [
    "query = '#FIFAWWC lang:en since:2015-06-05 until:2015-07-06'\n",
    "url = 'https://twitter.com/i/search/timeline'\n",
    "position = 'TWEET-{0}-{1}'.format(last_tweet,first_tweet)\n",
    "payload = { 'q' : query,\n",
    "            'f':'tweets',\n",
    "            'src':'typd',\n",
    "            'lang':'en',\n",
    "            'max_position' : position\n",
    "        }\n",
    "\n",
    "r = requests.get(url, payload)"
   ]
  },
  {
   "cell_type": "code",
   "execution_count": null,
   "metadata": {
    "collapsed": false
   },
   "outputs": [],
   "source": [
    "tweetdata = r.json()\n",
    "tweetSoup = BeautifulSoup(tweetdata['items_html'], 'html.parser')\n",
    "\n",
    "for item in tweetSoup.find_all(\"li\", attrs = {\"data-item-type\":\"tweet\"}):\n",
    "    tweet = {}\n",
    "    if not first_tweet:\n",
    "        first_tweet = item['data-item-id']\n",
    "    last_tweet = item['data-item-id']\n",
    "    tweet['tweet_id'] = item['data-item-id']\n",
    "    tweet['user_id'] = item.div['data-user-id']\n",
    "    tweet['name'] = item.div['data-name']\n",
    "    tweet['screen_name'] = item.div['data-screen-name']\n",
    "    tweet['text'] = item.find(\"div\", attrs = {\"class\":\"content\"}).p.text\n",
    "    tweet['time'] = item.find(\"div\", attrs = {\"class\":\"stream-item-header\"}).find(\"a\", attrs={\"class\":\"tweet-timestamp js-permalink js-nav js-tooltip\"}).span['data-time']\n",
    "    tweets[item['data-item-id']] = tweet"
   ]
  },
  {
   "cell_type": "code",
   "execution_count": null,
   "metadata": {
    "collapsed": false
   },
   "outputs": [],
   "source": [
    "for t in tweets:\n",
    "    print tweets[t]\n",
    "    \n",
    "print first_tweet\n",
    "print last_tweet"
   ]
  },
  {
   "cell_type": "code",
   "execution_count": null,
   "metadata": {
    "collapsed": false
   },
   "outputs": [],
   "source": [
    "print r.json()"
   ]
  },
  {
   "cell_type": "code",
   "execution_count": null,
   "metadata": {
    "collapsed": false
   },
   "outputs": [],
   "source": [
    "print r.json()['items_html']"
   ]
  },
  {
   "cell_type": "code",
   "execution_count": null,
   "metadata": {
    "collapsed": false
   },
   "outputs": [],
   "source": [
    "tweetSoup = BeautifulSoup(tweetdata['items_html'], 'html.parser')\n",
    "\n",
    "for item in tweetSoup.find_all(\"li\", attrs = {\"data-item-type\":\"tweet\"}):\n",
    "    print item.find(\"div\", attrs = {\"class\":\"stream-item-header\"}).find(\"a\", attrs={\"class\":\"tweet-timestamp js-permalink js-nav js-tooltip\"}).span['data-time']"
   ]
  },
  {
   "cell_type": "code",
   "execution_count": null,
   "metadata": {
    "collapsed": false
   },
   "outputs": [],
   "source": [
    "tweetdata = r.json()\n",
    "tweetSoup = BeautifulSoup(tweetdata['items_html'], 'html.parser')\n",
    "\n",
    "for item in tweetSoup.find_all(\"li\", attrs = {\"data-item-type\":\"tweet\"}):\n",
    "    print item['data-item-id']\n",
    "    print item.div['data-user-id']\n",
    "    print item.div['data-name']\n",
    "    print item.div['data-screen-name']\n",
    "    print item.find(\"div\", attrs = {\"class\":\"content\"}).p.text\n",
    "    print item.find(\"div\", attrs = {\"class\":\"stream-item-header\"}).find(\"a\", attrs={\"class\":\"tweet-timestamp js-permalink js-nav js-tooltip\"}).span['data-time']"
   ]
  },
  {
   "cell_type": "code",
   "execution_count": null,
   "metadata": {
    "collapsed": false
   },
   "outputs": [],
   "source": [
    "print r"
   ]
  },
  {
   "cell_type": "code",
   "execution_count": null,
   "metadata": {
    "collapsed": false
   },
   "outputs": [],
   "source": [
    "print r.status_code"
   ]
  },
  {
   "cell_type": "code",
   "execution_count": null,
   "metadata": {
    "collapsed": false
   },
   "outputs": [],
   "source": [
    "r.json()\n"
   ]
  },
  {
   "cell_type": "code",
   "execution_count": null,
   "metadata": {
    "collapsed": true
   },
   "outputs": [],
   "source": []
  }
 ],
 "metadata": {
  "kernelspec": {
   "display_name": "Python 2",
   "language": "python",
   "name": "python2"
  },
  "language_info": {
   "codemirror_mode": {
    "name": "ipython",
    "version": 2
   },
   "file_extension": ".py",
   "mimetype": "text/x-python",
   "name": "python",
   "nbconvert_exporter": "python",
   "pygments_lexer": "ipython2",
   "version": "2.7.6"
  }
 },
 "nbformat": 4,
 "nbformat_minor": 0
}
