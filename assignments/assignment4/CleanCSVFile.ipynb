{
 "cells": [
  {
   "cell_type": "markdown",
   "metadata": {},
   "source": [
    "### Clean CSV\n",
    "The CSV file created from the web scraping contains \\n characters in the tweet texts, which will break the CSV parsing. I should've thought about this before, but I can clean it up using a little code."
   ]
  },
  {
   "cell_type": "code",
   "execution_count": 45,
   "metadata": {
    "collapsed": false
   },
   "outputs": [
    {
     "name": "stdout",
     "output_type": "stream",
     "text": [
      "151684\n",
      "128947\n"
     ]
    }
   ],
   "source": [
    "import re\n",
    "isid = re.compile('^[\\d]{18}')\n",
    "\n",
    "firstline = True\n",
    "lastline = None\n",
    "lines_read = 0\n",
    "lines_written = 0\n",
    "\n",
    "with open('tweets.csv','w') as outfile:\n",
    "    with open(\"WC2015.csv\",\"r\") as infile:\n",
    "        for line in infile:\n",
    "            lines_read += 1\n",
    "            if not firstline:\n",
    "                if not isid.match(line):\n",
    "                    if lastline:\n",
    "                        lastline = lastline.replace('\\r\\n','') + ' ' + line\n",
    "                else:\n",
    "                    if lastline:\n",
    "                        outfile.write(lastline)\n",
    "                        lines_written += 1\n",
    "                    lastline = line\n",
    "            else:\n",
    "                outfile.write(line)\n",
    "                firstline = False\n",
    "                lines_written += 1\n",
    "\n",
    "    if lastline:\n",
    "        outfile.write(lastline)\n",
    "\n",
    "print lines_read\n",
    "print lines_written"
   ]
  },
  {
   "cell_type": "code",
   "execution_count": null,
   "metadata": {
    "collapsed": true
   },
   "outputs": [],
   "source": []
  },
  {
   "cell_type": "code",
   "execution_count": null,
   "metadata": {
    "collapsed": true
   },
   "outputs": [],
   "source": []
  }
 ],
 "metadata": {
  "kernelspec": {
   "display_name": "Python 2",
   "language": "python",
   "name": "python2"
  },
  "language_info": {
   "codemirror_mode": {
    "name": "ipython",
    "version": 2
   },
   "file_extension": ".py",
   "mimetype": "text/x-python",
   "name": "python",
   "nbconvert_exporter": "python",
   "pygments_lexer": "ipython2",
   "version": "2.7.6"
  }
 },
 "nbformat": 4,
 "nbformat_minor": 0
}
