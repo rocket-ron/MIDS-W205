{
 "cells": [
  {
   "cell_type": "code",
   "execution_count": 1,
   "metadata": {
    "collapsed": true
   },
   "outputs": [],
   "source": [
    "from boto.s3.connection import S3Connection\n",
    "from boto.s3.key import Key\n",
    "\n",
    "conn = S3Connection(host=\"s3-us-west-1.amazonaws.com\")\n",
    "bucket = conn.get_bucket('w205-rcordell-assignment4')"
   ]
  },
  {
   "cell_type": "code",
   "execution_count": 3,
   "metadata": {
    "collapsed": true
   },
   "outputs": [],
   "source": [
    "keys = bucket.get_all_keys(prefix='average')"
   ]
  },
  {
   "cell_type": "code",
   "execution_count": 6,
   "metadata": {
    "collapsed": false
   },
   "outputs": [
    {
     "name": "stdout",
     "output_type": "stream",
     "text": [
      "average/_SUCCESS\n",
      "average/part-00000\n",
      "average/part-00001\n"
     ]
    }
   ],
   "source": [
    "import re\n",
    "import StringIO\n",
    "\n",
    "num_re = re.compile(r'([\\d]+)')\n",
    "accum = {'line' : 0, 'characters' : 0}\n",
    "\n",
    "assoc = {}\n",
    "for key in keys:\n",
    "    if key.name == '_SUCCESS':\n",
    "        continue\n",
    "    else:\n",
    "        print key.name\n",
    "        contents = StringIO.StringIO(key.get_contents_as_string())\n",
    "        while True:\n",
    "            line=contents.readline()\n",
    "            if not line:\n",
    "                break\n",
    "            if line.startswith('\"lines\"'):\n",
    "                match = num_re.search(line)\n",
    "                accum['line'] += int(match.group(1))\n",
    "            elif line.startswith('\"characters\"'):\n",
    "                match = num_re.search(line)\n",
    "                accum['characters'] += int(match.group(1))\n",
    "            else:\n",
    "                print (line)\n",
    "                break\n",
    "        contents.close()\n",
    "        key.close()\n",
    "            "
   ]
  },
  {
   "cell_type": "code",
   "execution_count": 7,
   "metadata": {
    "collapsed": false
   },
   "outputs": [
    {
     "name": "stdout",
     "output_type": "stream",
     "text": [
      "{'line': 128866, 'characters': 11902247}\n"
     ]
    }
   ],
   "source": [
    "print accum"
   ]
  },
  {
   "cell_type": "code",
   "execution_count": 11,
   "metadata": {
    "collapsed": false
   },
   "outputs": [
    {
     "name": "stdout",
     "output_type": "stream",
     "text": [
      "92.3614219422\n"
     ]
    }
   ],
   "source": [
    "print float(accum['characters'])/float(accum['line'])"
   ]
  },
  {
   "cell_type": "code",
   "execution_count": null,
   "metadata": {
    "collapsed": true
   },
   "outputs": [],
   "source": []
  }
 ],
 "metadata": {
  "kernelspec": {
   "display_name": "Python 2",
   "language": "python",
   "name": "python2"
  },
  "language_info": {
   "codemirror_mode": {
    "name": "ipython",
    "version": 2
   },
   "file_extension": ".py",
   "mimetype": "text/x-python",
   "name": "python",
   "nbconvert_exporter": "python",
   "pygments_lexer": "ipython2",
   "version": "2.7.6"
  }
 },
 "nbformat": 4,
 "nbformat_minor": 0
}
