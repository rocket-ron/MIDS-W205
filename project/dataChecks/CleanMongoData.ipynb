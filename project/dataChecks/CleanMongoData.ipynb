{
 "cells": [
  {
   "cell_type": "code",
   "execution_count": null,
   "metadata": {
    "collapsed": false
   },
   "outputs": [],
   "source": [
    "from pymongo import MongoClient\n",
    "\n",
    "collections = {}\n",
    "client = MongoClient(host='ec2-54-153-43-230.us-west-1.compute.amazonaws.com', port=27017)\n",
    "\n",
    "collections['isis'] = client['twitter_db']['isis']\n",
    "collections['greece'] = client['twitter_db']['greece']\n",
    "collections['tdf'] = client['twitter_db']['tdf']\n",
    "collections['ebola'] = client['twitter_db']['ebola']\n",
    "collections['immigration'] = client['twitter_db']['immigration']\n",
    "collections['july4'] = client['twitter_db']['july4']\n"
   ]
  },
  {
   "cell_type": "code",
   "execution_count": null,
   "metadata": {
    "collapsed": false
   },
   "outputs": [],
   "source": [
    "collections['isis'].find_one()"
   ]
  },
  {
   "cell_type": "code",
   "execution_count": null,
   "metadata": {
    "collapsed": false
   },
   "outputs": [],
   "source": [
    "from pymongo import ASCENDING\n",
    "from pymongo import DESCENDING\n",
    "for key in collections:\n",
    "    try:\n",
    "        collections[key].drop_index('id_str_1')\n",
    "        collections[key].drop_index('created_at_1')\n",
    "    except:\n",
    "        continue"
   ]
  },
  {
   "cell_type": "code",
   "execution_count": null,
   "metadata": {
    "collapsed": false
   },
   "outputs": [],
   "source": [
    "from pymongo import IndexModel\n",
    "from pymongo import TEXT\n",
    "\n",
    "index1 = IndexModel([(\"id_str\", TEXT),(\"user\", TEXT),(\"lang\", TEXT)], name=\"text\", background=True)\n",
    "for key in collections:\n",
    "    collections[key].create_indexes([index1])"
   ]
  },
  {
   "cell_type": "markdown",
   "metadata": {},
   "source": [
    "Clean up the collections by eliminating duplicate tweet id's from the same user\n",
    "This is a very cautious way to do this, a small amount at a time"
   ]
  },
  {
   "cell_type": "code",
   "execution_count": null,
   "metadata": {
    "collapsed": false
   },
   "outputs": [],
   "source": [
    "db = client.twitter_db\n",
    "pipeline = [\n",
    "        { \"$group\" : {\"_id\" : {\n",
    "                        \"user\" : \"$user.id\",\n",
    "                        \"tweet\" : \"$id\"\n",
    "                        },\n",
    "                      \"count\" : {\"$sum\" : 1}}},\n",
    "        { \"$match\" : {\"count\" : { \"$gt\" : 1}}},\n",
    "        { \"$sort\" :  {\"count\" : -1}},\n",
    "        { \"$limit\" : 10000 }\n",
    "    ]\n",
    "duplicates = True\n",
    "while duplicates:\n",
    "    docs = db.command('aggregate','isis', pipeline=pipeline, allowDiskUse = True)\n",
    "    for result in docs['result']:\n",
    "        objIds = db.isis.find( { \"user.id\" : result['_id']['user'], \"id\" : result['_id']['tweet']}, { \"_id\" : 1})\n",
    "        first = True\n",
    "        if objIds.count() <= 1:\n",
    "            duplicates = False\n",
    "            break\n",
    "        for objId in objIds:\n",
    "            if first:\n",
    "                first = False\n",
    "                continue\n",
    "            else:\n",
    "                db.isis.remove( { \"_id\" : objId['_id']})"
   ]
  },
  {
   "cell_type": "code",
   "execution_count": null,
   "metadata": {
    "collapsed": false
   },
   "outputs": [],
   "source": [
    "db.isis.count()"
   ]
  },
  {
   "cell_type": "code",
   "execution_count": null,
   "metadata": {
    "collapsed": false
   },
   "outputs": [],
   "source": [
    "pipeline = [\n",
    "        { \"$group\" : {\"_id\" : {\n",
    "                        \"user\" : \"$user.id\",\n",
    "                        \"tweet\" : \"$id\"\n",
    "                        },\n",
    "                      \"count\" : {\"$sum\" : 1}}},\n",
    "        { \"$match\" : {\"count\" : { \"$gt\" : 1}}},\n",
    "        { \"$sort\" :  {\"count\" : -1}},\n",
    "        { \"$limit\" : 10 }\n",
    "    ]\n",
    "docs = db.command('aggregate','greece', pipeline=pipeline, allowDiskUse = True)\n",
    "for doc in docs:\n",
    "    print doc"
   ]
  },
  {
   "cell_type": "code",
   "execution_count": null,
   "metadata": {
    "collapsed": false
   },
   "outputs": [],
   "source": [
    "duplicates = True\n",
    "while duplicates:\n",
    "    docs = db.command('aggregate','greece', pipeline=pipeline, allowDiskUse = True)\n",
    "    for result in docs['result']:\n",
    "        objIds = db.greece.find( { \"user.id\" : result['_id']['user'], \"id\" : result['_id']['tweet']}, { \"_id\" : 1})\n",
    "        first = True\n",
    "        if objIds.count() <= 1:\n",
    "            duplicates = False\n",
    "            break\n",
    "        for objId in objIds:\n",
    "            if first:\n",
    "                first = False\n",
    "                continue\n",
    "            else:\n",
    "                db.greece.remove( { \"_id\" : objId['_id']})"
   ]
  },
  {
   "cell_type": "code",
   "execution_count": null,
   "metadata": {
    "collapsed": true
   },
   "outputs": [],
   "source": []
  }
 ],
 "metadata": {
  "kernelspec": {
   "display_name": "Python 2",
   "language": "python",
   "name": "python2"
  },
  "language_info": {
   "codemirror_mode": {
    "name": "ipython",
    "version": 2
   },
   "file_extension": ".py",
   "mimetype": "text/x-python",
   "name": "python",
   "nbconvert_exporter": "python",
   "pygments_lexer": "ipython2",
   "version": "2.7.6"
  }
 },
 "nbformat": 4,
 "nbformat_minor": 0
}
