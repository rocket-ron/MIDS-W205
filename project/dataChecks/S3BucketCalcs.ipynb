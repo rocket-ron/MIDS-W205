{
 "cells": [
  {
   "cell_type": "code",
   "execution_count": null,
   "metadata": {
    "collapsed": false
   },
   "outputs": [],
   "source": [
    "from boto.s3.connection import S3Connection\n",
    "\n",
    "conn = S3Connection(host=\"s3-us-west-1.amazonaws.com\")\n",
    "\n"
   ]
  },
  {
   "cell_type": "code",
   "execution_count": null,
   "metadata": {
    "collapsed": true
   },
   "outputs": [],
   "source": [
    "from boto.s3.bucket import Bucket\n",
    "from boto.s3.key import Key"
   ]
  },
  {
   "cell_type": "code",
   "execution_count": null,
   "metadata": {
    "collapsed": true
   },
   "outputs": [],
   "source": [
    "tweetBucket = conn.get_bucket(\"w205-rcordell-project\")"
   ]
  },
  {
   "cell_type": "code",
   "execution_count": null,
   "metadata": {
    "collapsed": false
   },
   "outputs": [],
   "source": [
    "keys = tweetBucket.list(prefix=\"data/twitter-streams/ebola-\")"
   ]
  },
  {
   "cell_type": "code",
   "execution_count": null,
   "metadata": {
    "collapsed": false
   },
   "outputs": [],
   "source": [
    "import datetime\n",
    "import time\n",
    "import re\n",
    "\n",
    "ts_re = re.compile(r'[a-zA-Z]+-[a-z0-9]{8}-[a-z0-9]{4}-[a-z0-9]{4}-[a-z0-9]{4}-[a-z0-9]{12}-([\\d]{14})')\n",
    "date_format = '%Y%m%d%H%M%S'\n",
    "chunkDates = []\n",
    "bytes = 0\n",
    "for key in keys:\n",
    "    match = ts_re.search(key.name)\n",
    "    if match:\n",
    "        if match.group(1):\n",
    "            chunkDates.append(datetime.datetime.strptime(match.group(1), date_format))\n",
    "            bytes += key.size"
   ]
  },
  {
   "cell_type": "code",
   "execution_count": null,
   "metadata": {
    "collapsed": false
   },
   "outputs": [],
   "source": [
    "chunkDates.sort()\n",
    "for c in chunkDates:\n",
    "    print c"
   ]
  },
  {
   "cell_type": "code",
   "execution_count": null,
   "metadata": {
    "collapsed": false
   },
   "outputs": [],
   "source": [
    "duration = (chunkDates[len(chunkDates)-1] - chunkDates[0])"
   ]
  },
  {
   "cell_type": "code",
   "execution_count": null,
   "metadata": {
    "collapsed": false
   },
   "outputs": [],
   "source": [
    "print str(duration.total_seconds())"
   ]
  },
  {
   "cell_type": "code",
   "execution_count": null,
   "metadata": {
    "collapsed": false
   },
   "outputs": [],
   "source": [
    "print \"Chunk count: {0}\".format(len(chunkDates))\n",
    "print \"Tweet count: {0}\".format(len(chunkDates)*200)\n",
    "print \"Total storage {0} MB\".format(bytes/(1024*1024))\n",
    "print \"Data ingest rate {0} MB/hr\".format((bytes/(1024*1024))/(duration.total_seconds()/3600) )"
   ]
  },
  {
   "cell_type": "code",
   "execution_count": null,
   "metadata": {
    "collapsed": true
   },
   "outputs": [],
   "source": []
  }
 ],
 "metadata": {
  "kernelspec": {
   "display_name": "Python 2",
   "language": "python",
   "name": "python2"
  },
  "language_info": {
   "codemirror_mode": {
    "name": "ipython",
    "version": 2
   },
   "file_extension": ".py",
   "mimetype": "text/x-python",
   "name": "python",
   "nbconvert_exporter": "python",
   "pygments_lexer": "ipython2",
   "version": "2.7.6"
  }
 },
 "nbformat": 4,
 "nbformat_minor": 0
}
