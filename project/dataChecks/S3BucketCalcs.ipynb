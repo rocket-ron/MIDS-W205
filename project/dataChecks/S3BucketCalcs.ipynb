{
 "cells": [
  {
   "cell_type": "code",
   "execution_count": 3,
   "metadata": {
    "collapsed": false
   },
   "outputs": [],
   "source": [
    "from boto.s3.connection import S3Connection\n",
    "\n",
    "conn = S3Connection(host=\"s3-us-west-1.amazonaws.com\")\n",
    "\n"
   ]
  },
  {
   "cell_type": "code",
   "execution_count": 4,
   "metadata": {
    "collapsed": true
   },
   "outputs": [],
   "source": [
    "from boto.s3.bucket import Bucket\n",
    "from boto.s3.key import Key"
   ]
  },
  {
   "cell_type": "code",
   "execution_count": 5,
   "metadata": {
    "collapsed": true
   },
   "outputs": [],
   "source": [
    "tweetBucket = conn.get_bucket(\"w205-project-twitter-streams\")"
   ]
  },
  {
   "cell_type": "code",
   "execution_count": 7,
   "metadata": {
    "collapsed": false
   },
   "outputs": [],
   "source": [
    "keys = tweetBucket.list(prefix=\"isis\")"
   ]
  },
  {
   "cell_type": "code",
   "execution_count": 38,
   "metadata": {
    "collapsed": false
   },
   "outputs": [],
   "source": [
    "import datetime\n",
    "import time\n",
    "date_format = '%Y-%m-%dT%H:%M:%S.000Z'\n",
    "chunkDates = []\n",
    "bytes = 0\n",
    "for key in keys:\n",
    "    chunkDates.append(datetime.datetime.strptime(key.last_modified, date_format))\n",
    "    bytes += key.size"
   ]
  },
  {
   "cell_type": "code",
   "execution_count": 39,
   "metadata": {
    "collapsed": false
   },
   "outputs": [],
   "source": [
    "chunkDates.sort()"
   ]
  },
  {
   "cell_type": "code",
   "execution_count": 40,
   "metadata": {
    "collapsed": false
   },
   "outputs": [
    {
     "name": "stdout",
     "output_type": "stream",
     "text": [
      "2015-08-01 05:52:19\n",
      "2015-08-02 20:02:01\n"
     ]
    }
   ],
   "source": [
    "print str(chunkDates[0])\n",
    "print str(chunkDates[len(chunkDates)-1])"
   ]
  },
  {
   "cell_type": "code",
   "execution_count": 41,
   "metadata": {
    "collapsed": false
   },
   "outputs": [],
   "source": [
    "duration = (chunkDates[len(chunkDates)-1] - chunkDates[0])"
   ]
  },
  {
   "cell_type": "code",
   "execution_count": 42,
   "metadata": {
    "collapsed": false
   },
   "outputs": [
    {
     "name": "stdout",
     "output_type": "stream",
     "text": [
      "137382.0\n"
     ]
    }
   ],
   "source": [
    "print str(duration.total_seconds())"
   ]
  },
  {
   "cell_type": "code",
   "execution_count": 43,
   "metadata": {
    "collapsed": false
   },
   "outputs": [
    {
     "name": "stdout",
     "output_type": "stream",
     "text": [
      "Chunk count: 1482\n",
      "Tweet count: 296400\n",
      "Total storage 675 MB\n",
      "Data ingest rate 17.6879067127 MB/hr\n"
     ]
    }
   ],
   "source": [
    "print \"Chunk count: {0}\".format(len(chunkDates))\n",
    "print \"Tweet count: {0}\".format(len(chunkDates)*200)\n",
    "print \"Total storage {0} MB\".format(bytes/(1024*1024))\n",
    "print \"Data ingest rate {0} MB/hr\".format((bytes/(1024*1024))/(duration.total_seconds()/3600) )"
   ]
  },
  {
   "cell_type": "code",
   "execution_count": null,
   "metadata": {
    "collapsed": true
   },
   "outputs": [],
   "source": []
  }
 ],
 "metadata": {
  "kernelspec": {
   "display_name": "Python 2",
   "language": "python",
   "name": "python2"
  },
  "language_info": {
   "codemirror_mode": {
    "name": "ipython",
    "version": 2
   },
   "file_extension": ".py",
   "mimetype": "text/x-python",
   "name": "python",
   "nbconvert_exporter": "python",
   "pygments_lexer": "ipython2",
   "version": "2.7.6"
  }
 },
 "nbformat": 4,
 "nbformat_minor": 0
}
