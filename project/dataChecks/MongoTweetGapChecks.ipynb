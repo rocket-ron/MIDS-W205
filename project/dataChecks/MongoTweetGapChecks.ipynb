{
 "cells": [
  {
   "cell_type": "code",
   "execution_count": 1,
   "metadata": {
    "collapsed": false
   },
   "outputs": [],
   "source": [
    "from pymongo import MongoClient\n",
    "\n",
    "client = MongoClient(host='ec2-54-153-43-230.us-west-1.compute.amazonaws.com', port=27017)\n",
    "isisCol = client['twitter_db']['isis']\n",
    "greeceCol = client['twitter_db']['greece']\n",
    "tdfCol = client['twitter_db']['tdf']\n",
    "trCol = client['twitter_db']['trump']"
   ]
  },
  {
   "cell_type": "code",
   "execution_count": 2,
   "metadata": {
    "collapsed": true
   },
   "outputs": [],
   "source": [
    "import datetime\n",
    "import time\n",
    "docDateFormat = \"%a %b %d %H:%M:%S %Y\""
   ]
  },
  {
   "cell_type": "code",
   "execution_count": 81,
   "metadata": {
    "collapsed": false
   },
   "outputs": [],
   "source": [
    "docs = isisCol.find({},{'created_at' : 1, '_id' : 0})"
   ]
  },
  {
   "cell_type": "code",
   "execution_count": null,
   "metadata": {
    "collapsed": false
   },
   "outputs": [],
   "source": [
    "docDates = []\n",
    "for doc in docs:\n",
    "    docDates.append(datetime.datetime.strptime((doc['created_at']).replace(\"+0000 \",\"\"), docDateFormat))\n",
    "\n",
    "docDates.sort()"
   ]
  },
  {
   "cell_type": "code",
   "execution_count": 76,
   "metadata": {
    "collapsed": false
   },
   "outputs": [
    {
     "name": "stdout",
     "output_type": "stream",
     "text": [
      "1183123\n",
      "2015-06-30 09:45:30\n"
     ]
    }
   ],
   "source": [
    "print len(docDates)\n",
    "print docDates[0]"
   ]
  },
  {
   "cell_type": "code",
   "execution_count": 77,
   "metadata": {
    "collapsed": false
   },
   "outputs": [
    {
     "name": "stdout",
     "output_type": "stream",
     "text": [
      "2015-07-04 23:59:52\t\t2015-07-07 08:10:50\n",
      "2015-07-10 23:59:56\t\t2015-07-22 11:52:30\n",
      "2015-07-22 23:59:56\t\t2015-07-23 08:59:28\n",
      "2015-07-23 23:59:58\t\t2015-07-24 06:49:18\n",
      "2015-07-25 23:59:55\t\t2015-07-29 03:10:35\n"
     ]
    }
   ],
   "source": [
    "maxDelta = datetime.timedelta(0,0,0,0,0,1,0)\n",
    "\n",
    "for i in range(1,len(docDates)):\n",
    "    if docDates[i] - docDates[i-1] > maxDelta:\n",
    "        print str(docDates[i-1]) + '\\t\\t' + str(docDates[i])\n"
   ]
  },
  {
   "cell_type": "code",
   "execution_count": 3,
   "metadata": {
    "collapsed": false
   },
   "outputs": [],
   "source": [
    "docs = trCol.find()\n",
    "docDates = []\n",
    "for doc in docs:\n",
    "    docDates.append(datetime.datetime.strptime((doc['created_at']).replace(\"+0000 \",\"\"), docDateFormat))\n",
    "\n",
    "docDates.sort()\n"
   ]
  },
  {
   "cell_type": "code",
   "execution_count": 4,
   "metadata": {
    "collapsed": false
   },
   "outputs": [
    {
     "name": "stdout",
     "output_type": "stream",
     "text": [
      "2015-08-01 19:33:57\t\t2015-08-02 00:17:41\n",
      "2015-08-02 09:08:05\t\t2015-08-02 10:18:41\n",
      "2015-08-02 11:41:20\t\t2015-08-02 13:00:17\n",
      "2015-08-04 09:23:34\t\t2015-08-04 10:43:27\n",
      "2015-08-05 18:48:54\t\t2015-08-10 11:20:59\n"
     ]
    }
   ],
   "source": [
    "maxDelta = datetime.timedelta(0,0,0,0,0,1,0)\n",
    "\n",
    "for i in range(1,len(docDates)):\n",
    "    if docDates[i] - docDates[i-1] > maxDelta:\n",
    "        print str(docDates[i-1]) + '\\t\\t' + str(docDates[i])"
   ]
  },
  {
   "cell_type": "code",
   "execution_count": 86,
   "metadata": {
    "collapsed": true
   },
   "outputs": [],
   "source": [
    "docs = tdfCol.find()\n",
    "docDates = []\n",
    "for doc in docs:\n",
    "    docDates.append(datetime.datetime.strptime((doc['created_at']).replace(\"+0000 \",\"\"), docDateFormat))\n",
    "\n",
    "docDates.sort()"
   ]
  },
  {
   "cell_type": "code",
   "execution_count": 88,
   "metadata": {
    "collapsed": false
   },
   "outputs": [
    {
     "name": "stdout",
     "output_type": "stream",
     "text": [
      "2015-07-24 23:13:50\n",
      "2015-07-30 23:58:29\n"
     ]
    }
   ],
   "source": [
    "print str(docDates[0])\n",
    "print str(docDates[len(docDates)-1])"
   ]
  },
  {
   "cell_type": "code",
   "execution_count": 84,
   "metadata": {
    "collapsed": false
   },
   "outputs": [
    {
     "name": "stdout",
     "output_type": "stream",
     "text": [
      "2015-07-24 23:59:10\t\t2015-07-25 14:39:54\n"
     ]
    }
   ],
   "source": [
    "maxDelta = datetime.timedelta(0,0,0,0,0,1,0)\n",
    "\n",
    "for i in range(1,len(docDates)):\n",
    "    if docDates[i] - docDates[i-1] > maxDelta:\n",
    "        print str(docDates[i-1]) + '\\t\\t' + str(docDates[i])"
   ]
  },
  {
   "cell_type": "code",
   "execution_count": null,
   "metadata": {
    "collapsed": true
   },
   "outputs": [],
   "source": []
  }
 ],
 "metadata": {
  "kernelspec": {
   "display_name": "Python 2",
   "language": "python",
   "name": "python2"
  },
  "language_info": {
   "codemirror_mode": {
    "name": "ipython",
    "version": 2
   },
   "file_extension": ".py",
   "mimetype": "text/x-python",
   "name": "python",
   "nbconvert_exporter": "python",
   "pygments_lexer": "ipython2",
   "version": "2.7.6"
  }
 },
 "nbformat": 4,
 "nbformat_minor": 0
}
