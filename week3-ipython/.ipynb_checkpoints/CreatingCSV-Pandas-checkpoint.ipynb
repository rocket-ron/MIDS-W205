{
 "cells": [
  {
   "cell_type": "code",
   "execution_count": 2,
   "metadata": {
    "collapsed": false
   },
   "outputs": [
    {
     "ename": "IOError",
     "evalue": "[Errno 2] No such file or directory: '~/Downloads/MIDSDS.csv'",
     "output_type": "error",
     "traceback": [
      "\u001b[0;31m---------------------------------------------------------------------------\u001b[0m",
      "\u001b[0;31mIOError\u001b[0m                                   Traceback (most recent call last)",
      "\u001b[0;32m<ipython-input-2-acf9fc0f6902>\u001b[0m in \u001b[0;36m<module>\u001b[0;34m()\u001b[0m\n\u001b[1;32m      1\u001b[0m \u001b[0;32mimport\u001b[0m \u001b[0mcsv\u001b[0m\u001b[0;34m\u001b[0m\u001b[0m\n\u001b[1;32m      2\u001b[0m \u001b[0;34m\u001b[0m\u001b[0m\n\u001b[0;32m----> 3\u001b[0;31m \u001b[0mmFile\u001b[0m \u001b[0;34m=\u001b[0m \u001b[0mopen\u001b[0m\u001b[0;34m(\u001b[0m\u001b[0;34m'~/Downloads/MIDSDS.csv'\u001b[0m\u001b[0;34m,\u001b[0m\u001b[0;34m'rb'\u001b[0m\u001b[0;34m)\u001b[0m\u001b[0;34m\u001b[0m\u001b[0m\n\u001b[0m\u001b[1;32m      4\u001b[0m \u001b[0;34m\u001b[0m\u001b[0m\n\u001b[1;32m      5\u001b[0m \u001b[0mreader\u001b[0m \u001b[0;34m=\u001b[0m\u001b[0mcsv\u001b[0m\u001b[0;34m.\u001b[0m\u001b[0mreader\u001b[0m\u001b[0;34m(\u001b[0m\u001b[0mmFile\u001b[0m\u001b[0;34m)\u001b[0m\u001b[0;34m\u001b[0m\u001b[0m\n",
      "\u001b[0;31mIOError\u001b[0m: [Errno 2] No such file or directory: '~/Downloads/MIDSDS.csv'"
     ]
    }
   ],
   "source": [
    "import csv\n",
    "\n",
    "mFile = open('~/Downloads/MIDSDS.csv','rb') \n",
    "\n",
    "reader =csv.reader(mFile)\n"
   ]
  },
  {
   "cell_type": "code",
   "execution_count": 106,
   "metadata": {
    "collapsed": false
   },
   "outputs": [
    {
     "name": "stdout",
     "output_type": "stream",
     "text": [
      "[['Nick', '27', 'MIDS13'], ['Joe', '25', 'MIDS14'], ['Jessy', '31', 'MIDS14'], ['Ali', '36', 'MIDS13']]\n"
     ]
    }
   ],
   "source": [
    "d = [i for i in  reader] \n",
    "\n",
    "\n",
    "print d"
   ]
  },
  {
   "cell_type": "code",
   "execution_count": 107,
   "metadata": {
    "collapsed": false
   },
   "outputs": [
    {
     "name": "stdout",
     "output_type": "stream",
     "text": [
      "[['Nick', '27', 'MIDS13'], ['Joe', '25', 'MIDS14'], ['Jessy', '31', 'MIDS14'], ['Ali', '36', 'MIDS13'], ['Mike', '32', 'MIDS15']]\n"
     ]
    }
   ],
   "source": [
    "d=d+[['Mike','32','MIDS15']]\n",
    "print d"
   ]
  },
  {
   "cell_type": "code",
   "execution_count": 110,
   "metadata": {
    "collapsed": false
   },
   "outputs": [
    {
     "name": "stdout",
     "output_type": "stream",
     "text": [
      "[['Nick', 28, 'MIDS13'], ['Joe', 26, 'MIDS14'], ['Jessy', 32, 'MIDS14'], ['Ali', 37, 'MIDS13']]\n"
     ]
    }
   ],
   "source": [
    "d= [[row[0],eval(row[1])+1,row[2]] for row in reader]\n",
    "\n",
    "print d"
   ]
  },
  {
   "cell_type": "code",
   "execution_count": 112,
   "metadata": {
    "collapsed": false
   },
   "outputs": [],
   "source": [
    "out=open('MIDS_out.csv','wb')\n",
    "output=csv.writer(out)\n",
    "\n",
    "for row in d:\n",
    "    output.writerow(row)\n",
    "out.close()"
   ]
  },
  {
   "cell_type": "code",
   "execution_count": 113,
   "metadata": {
    "collapsed": false
   },
   "outputs": [
    {
     "name": "stdout",
     "output_type": "stream",
     "text": [
      "[['Nick', '28', 'MIDS13'], ['Joe', '26', 'MIDS14'], ['Jessy', '32', 'MIDS14'], ['Ali', '37', 'MIDS13']]\n"
     ]
    }
   ],
   "source": [
    "mFile = open('MIDS_out.csv','rb') \n",
    "\n",
    "reader =csv.reader(mFile)\n",
    "d = [i for i in  reader] \n",
    "\n",
    "\n",
    "print d\n"
   ]
  },
  {
   "cell_type": "markdown",
   "metadata": {},
   "source": [
    "##Using Pandas for creating CSV file"
   ]
  },
  {
   "cell_type": "code",
   "execution_count": null,
   "metadata": {
    "collapsed": false
   },
   "outputs": [],
   "source": [
    "import os\n",
    "from pandas import DataFrame, read_csv\n",
    "import pandas as pd "
   ]
  },
  {
   "cell_type": "code",
   "execution_count": null,
   "metadata": {
    "collapsed": false
   },
   "outputs": [],
   "source": []
  },
  {
   "cell_type": "code",
   "execution_count": 114,
   "metadata": {
    "collapsed": false
   },
   "outputs": [],
   "source": [
    "names = ['Nick','Joe','Jessy','Ali']\n",
    "ages = [27, 25, 31, 36, 29]\n",
    "program =['MIDS13','MIDS14','MIDS14','MIDS13']"
   ]
  },
  {
   "cell_type": "code",
   "execution_count": 115,
   "metadata": {
    "collapsed": false
   },
   "outputs": [
    {
     "data": {
      "text/plain": [
       "[('Nick', 27, 'MIDS13'),\n",
       " ('Joe', 25, 'MIDS14'),\n",
       " ('Jessy', 31, 'MIDS14'),\n",
       " ('Ali', 36, 'MIDS13')]"
      ]
     },
     "execution_count": 115,
     "metadata": {},
     "output_type": "execute_result"
    }
   ],
   "source": [
    "\n",
    "MIDSDS = zip(names,ages,program)\n",
    "MIDSDS"
   ]
  },
  {
   "cell_type": "code",
   "execution_count": 116,
   "metadata": {
    "collapsed": false
   },
   "outputs": [
    {
     "data": {
      "text/html": [
       "<div style=\"max-height:1000px;max-width:1500px;overflow:auto;\">\n",
       "<table border=\"1\" class=\"dataframe\">\n",
       "  <thead>\n",
       "    <tr style=\"text-align: right;\">\n",
       "      <th></th>\n",
       "      <th>Name</th>\n",
       "      <th>Age</th>\n",
       "      <th>Program</th>\n",
       "    </tr>\n",
       "  </thead>\n",
       "  <tbody>\n",
       "    <tr>\n",
       "      <th>0</th>\n",
       "      <td>  Nick</td>\n",
       "      <td> 27</td>\n",
       "      <td> MIDS13</td>\n",
       "    </tr>\n",
       "    <tr>\n",
       "      <th>1</th>\n",
       "      <td>   Joe</td>\n",
       "      <td> 25</td>\n",
       "      <td> MIDS14</td>\n",
       "    </tr>\n",
       "    <tr>\n",
       "      <th>2</th>\n",
       "      <td> Jessy</td>\n",
       "      <td> 31</td>\n",
       "      <td> MIDS14</td>\n",
       "    </tr>\n",
       "    <tr>\n",
       "      <th>3</th>\n",
       "      <td>   Ali</td>\n",
       "      <td> 36</td>\n",
       "      <td> MIDS13</td>\n",
       "    </tr>\n",
       "  </tbody>\n",
       "</table>\n",
       "</div>"
      ],
      "text/plain": [
       "    Name  Age Program\n",
       "0   Nick   27  MIDS13\n",
       "1    Joe   25  MIDS14\n",
       "2  Jessy   31  MIDS14\n",
       "3    Ali   36  MIDS13"
      ]
     },
     "execution_count": 116,
     "metadata": {},
     "output_type": "execute_result"
    }
   ],
   "source": [
    "df = pd.DataFrame(data = MIDSDS, columns=['Name', 'Age','Program'])\n",
    "df"
   ]
  },
  {
   "cell_type": "code",
   "execution_count": 117,
   "metadata": {
    "collapsed": false
   },
   "outputs": [],
   "source": [
    "df.to_csv('MIDSDS.csv',index=False,header=False)\n"
   ]
  },
  {
   "cell_type": "code",
   "execution_count": 118,
   "metadata": {
    "collapsed": false
   },
   "outputs": [],
   "source": [
    "ds = r'MIDSDS.csv'\n",
    "df = pd.read_csv(ds,names=['Name', 'Age','Program'])"
   ]
  },
  {
   "cell_type": "code",
   "execution_count": 119,
   "metadata": {
    "collapsed": false
   },
   "outputs": [
    {
     "data": {
      "text/html": [
       "<div style=\"max-height:1000px;max-width:1500px;overflow:auto;\">\n",
       "<table border=\"1\" class=\"dataframe\">\n",
       "  <thead>\n",
       "    <tr style=\"text-align: right;\">\n",
       "      <th></th>\n",
       "      <th>Name</th>\n",
       "      <th>Age</th>\n",
       "      <th>Program</th>\n",
       "    </tr>\n",
       "  </thead>\n",
       "  <tbody>\n",
       "    <tr>\n",
       "      <th>0</th>\n",
       "      <td>  Nick</td>\n",
       "      <td> 27</td>\n",
       "      <td> MIDS13</td>\n",
       "    </tr>\n",
       "    <tr>\n",
       "      <th>1</th>\n",
       "      <td>   Joe</td>\n",
       "      <td> 25</td>\n",
       "      <td> MIDS14</td>\n",
       "    </tr>\n",
       "    <tr>\n",
       "      <th>2</th>\n",
       "      <td> Jessy</td>\n",
       "      <td> 31</td>\n",
       "      <td> MIDS14</td>\n",
       "    </tr>\n",
       "    <tr>\n",
       "      <th>3</th>\n",
       "      <td>   Ali</td>\n",
       "      <td> 36</td>\n",
       "      <td> MIDS13</td>\n",
       "    </tr>\n",
       "  </tbody>\n",
       "</table>\n",
       "</div>"
      ],
      "text/plain": [
       "    Name  Age Program\n",
       "0   Nick   27  MIDS13\n",
       "1    Joe   25  MIDS14\n",
       "2  Jessy   31  MIDS14\n",
       "3    Ali   36  MIDS13"
      ]
     },
     "execution_count": 119,
     "metadata": {},
     "output_type": "execute_result"
    }
   ],
   "source": [
    "df"
   ]
  },
  {
   "cell_type": "code",
   "execution_count": null,
   "metadata": {
    "collapsed": false
   },
   "outputs": [],
   "source": [
    "os.remove(ds)"
   ]
  },
  {
   "cell_type": "markdown",
   "metadata": {},
   "source": [
    "## Two good tools for working with JSON and CSV on the command line:\n",
    "##1-JQ\n",
    "##2-CSVKit"
   ]
  },
  {
   "cell_type": "code",
   "execution_count": null,
   "metadata": {
    "collapsed": false
   },
   "outputs": [],
   "source": []
  }
 ],
 "metadata": {
  "kernelspec": {
   "display_name": "Python 2",
   "language": "python",
   "name": "python2"
  },
  "language_info": {
   "codemirror_mode": {
    "name": "ipython",
    "version": 2
   },
   "file_extension": ".py",
   "mimetype": "text/x-python",
   "name": "python",
   "nbconvert_exporter": "python",
   "pygments_lexer": "ipython2",
   "version": "2.7.6"
  }
 },
 "nbformat": 4,
 "nbformat_minor": 0
}
