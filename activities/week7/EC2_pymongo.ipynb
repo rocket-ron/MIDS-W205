{
 "cells": [
  {
   "cell_type": "code",
   "execution_count": 1,
   "metadata": {
    "collapsed": false
   },
   "outputs": [
    {
     "data": {
      "text/plain": [
       "{u'_id': ObjectId('5599e8abc4fe5b0b0bb2a9c6'),\n",
       " u'contributors': None,\n",
       " u'coordinates': None,\n",
       " u'created_at': u'Sat Jul 04 23:59:46 +0000 2015',\n",
       " u'entities': {u'hashtags': [{u'indices': [97, 109],\n",
       "    u'text': u'\\u062c\\u0628\\u0647\\u0629_\\u0627\\u0644\\u0646\\u0635\\u0631\\u0629'},\n",
       "   {u'indices': [110, 120],\n",
       "    u'text': u'\\u0627\\u0644\\u0645\\u0646\\u0627\\u0635\\u0631\\u0648\\u0646'},\n",
       "   {u'indices': [121, 126], u'text': u'ISIS'},\n",
       "   {u'indices': [127, 135], u'text': u'e3teqal'}],\n",
       "  u'symbols': [],\n",
       "  u'urls': [{u'display_url': u'youtube.com/watch?v=aKsqxi\\u2026',\n",
       "    u'expanded_url': u'https://www.youtube.com/watch?v=aKsqxi_-yL0',\n",
       "    u'indices': [71, 94],\n",
       "    u'url': u'https://t.co/tKAJ7EN2Lu'}],\n",
       "  u'user_mentions': []},\n",
       " u'favorite_count': 0,\n",
       " u'favorited': False,\n",
       " u'geo': None,\n",
       " u'id': 617482968777531392L,\n",
       " u'id_str': u'617482968777531392',\n",
       " u'in_reply_to_screen_name': None,\n",
       " u'in_reply_to_status_id': None,\n",
       " u'in_reply_to_status_id_str': None,\n",
       " u'in_reply_to_user_id': None,\n",
       " u'in_reply_to_user_id_str': None,\n",
       " u'is_quote_status': False,\n",
       " u'lang': u'ar',\n",
       " u'metadata': {u'iso_language_code': u'ar', u'result_type': u'recent'},\n",
       " u'place': None,\n",
       " u'possibly_sensitive': False,\n",
       " u'retweet_count': 0,\n",
       " u'retweeted': False,\n",
       " u'source': u'<a href=\"https://about.twitter.com/products/tweetdeck\" rel=\"nofollow\">TweetDeck</a>',\n",
       " u'text': u'\\u0642\\u0646\\u0627\\u0629 24 \\u0633\\u0639\\u0648\\u062f\\u064a \\u062a\\u0628\\u062b \\u062d\\u0635\\u0631\\u064a\\u0627 \\u062a\\u0648\\u0631\\u0637 \\u0627\\u064a\\u0631\\u0627\\u0646 \\u0648\\u062f\\u0627\\u0639\\u0634 \\u0628\\u0627\\u0644\\u0639\\u0645\\u0644\\u064a\\u0627\\u062a \\u0627\\u0644\\u0627\\u0631\\u0647\\u0627\\u0628\\u064a\\u0629 \\u0628\\u0627\\u0644\\u0633\\u0639\\u0648\\u062f\\u064a\\u0629 https://t.co/tKAJ7EN2Lu\\xa0\\u2026 #\\u062c\\u0628\\u0647\\u0629_\\u0627\\u0644\\u0646\\u0635\\u0631\\u0629 #\\u0627\\u0644\\u0645\\u0646\\u0627\\u0635\\u0631\\u0648\\u0646 #ISIS #e3teqal',\n",
       " u'truncated': False,\n",
       " u'user': {u'contributors_enabled': False,\n",
       "  u'created_at': u'Sat Nov 01 14:59:11 +0000 2014',\n",
       "  u'default_profile': True,\n",
       "  u'default_profile_image': False,\n",
       "  u'description': u'',\n",
       "  u'entities': {u'description': {u'urls': []}},\n",
       "  u'favourites_count': 0,\n",
       "  u'follow_request_sent': None,\n",
       "  u'followers_count': 5,\n",
       "  u'following': None,\n",
       "  u'friends_count': 42,\n",
       "  u'geo_enabled': False,\n",
       "  u'has_extended_profile': False,\n",
       "  u'id': 2855056444L,\n",
       "  u'id_str': u'2855056444',\n",
       "  u'is_translation_enabled': False,\n",
       "  u'is_translator': False,\n",
       "  u'lang': u'en',\n",
       "  u'listed_count': 0,\n",
       "  u'location': u'',\n",
       "  u'name': u'\\u0639\\u0645\\u0627\\u062f \\u0645\\u0637\\u064a\\u0631\\u064a',\n",
       "  u'notifications': None,\n",
       "  u'profile_background_color': u'C0DEED',\n",
       "  u'profile_background_image_url': u'http://abs.twimg.com/images/themes/theme1/bg.png',\n",
       "  u'profile_background_image_url_https': u'https://abs.twimg.com/images/themes/theme1/bg.png',\n",
       "  u'profile_background_tile': False,\n",
       "  u'profile_image_url': u'http://pbs.twimg.com/profile_images/528562585520451584/u2VR5h7i_normal.jpeg',\n",
       "  u'profile_image_url_https': u'https://pbs.twimg.com/profile_images/528562585520451584/u2VR5h7i_normal.jpeg',\n",
       "  u'profile_link_color': u'0084B4',\n",
       "  u'profile_sidebar_border_color': u'C0DEED',\n",
       "  u'profile_sidebar_fill_color': u'DDEEF6',\n",
       "  u'profile_text_color': u'333333',\n",
       "  u'profile_use_background_image': True,\n",
       "  u'protected': False,\n",
       "  u'screen_name': u'emad33553',\n",
       "  u'statuses_count': 1167,\n",
       "  u'time_zone': None,\n",
       "  u'url': None,\n",
       "  u'utc_offset': None,\n",
       "  u'verified': False}}"
      ]
     },
     "execution_count": 1,
     "metadata": {},
     "output_type": "execute_result"
    }
   ],
   "source": [
    "import pymongo\n",
    "\n",
    "conn=pymongo.MongoClient(host='52.8.74.34',port=27017)\n",
    "\n",
    "collection = conn['twitter_db']['isis']\n",
    "\n",
    "collection.find_one()\n",
    "\n"
   ]
  },
  {
   "cell_type": "code",
   "execution_count": null,
   "metadata": {
    "collapsed": true
   },
   "outputs": [],
   "source": []
  }
 ],
 "metadata": {
  "kernelspec": {
   "display_name": "Python 2",
   "language": "python",
   "name": "python2"
  },
  "language_info": {
   "codemirror_mode": {
    "name": "ipython",
    "version": 2
   },
   "file_extension": ".py",
   "mimetype": "text/x-python",
   "name": "python",
   "nbconvert_exporter": "python",
   "pygments_lexer": "ipython2",
   "version": "2.7.6"
  }
 },
 "nbformat": 4,
 "nbformat_minor": 0
}
