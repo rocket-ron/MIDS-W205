{
 "metadata": {
  "name": "",
  "signature": "sha256:6e1720ab0ff0b3c147ff990e0d9bb454cd7e11de0e1841f2272de47c1715e4ea"
 },
 "nbformat": 3,
 "nbformat_minor": 0,
 "worksheets": [
  {
   "cells": [
    {
     "cell_type": "code",
     "collapsed": false,
     "input": [
      "!aws configure"
     ],
     "language": "python",
     "metadata": {},
     "outputs": []
    },
    {
     "cell_type": "code",
     "collapsed": false,
     "input": [
      "!aws --version"
     ],
     "language": "python",
     "metadata": {},
     "outputs": [
      {
       "output_type": "stream",
       "stream": "stdout",
       "text": [
        "aws-cli/1.7.3 Python/2.7.6 Darwin/14.0.0\r\n"
       ]
      }
     ],
     "prompt_number": 30
    },
    {
     "cell_type": "code",
     "collapsed": false,
     "input": [
      "!aws help"
     ],
     "language": "python",
     "metadata": {},
     "outputs": [
      {
       "output_type": "stream",
       "stream": "stdout",
       "text": [
        "AWS()                                                                    AWS()\r\n",
        "\r\n",
        "\r\n",
        "\r\n",
        "N\bNA\bAM\bME\bE\r\n",
        "       aws -\r\n",
        "\r\n",
        "D\bDE\bES\bSC\bCR\bRI\bIP\bPT\bTI\bIO\bON\bN\r\n",
        "       The  AWS  Command  Line  Interface is a unified tool to manage your AWS\r\n",
        "       services.\r\n",
        "\r\n",
        "S\bSY\bYN\bNO\bOP\bPS\bSI\bIS\bS\r\n",
        "          aws [options] <command> <subcommand> [parameters]\r\n",
        "\r\n",
        "       Use _\ba_\bw_\bs _\bc_\bo_\bm_\bm_\ba_\bn_\bd _\bh_\be_\bl_\bp for information on a specific command.\r\n",
        "\r\n",
        "O\bOP\bPT\bTI\bIO\bON\bNS\bS\r\n",
        "       -\b--\b-d\bde\beb\bbu\bug\bg (boolean)\r\n",
        "\r\n",
        "       Turn on debug logging.\r\n",
        "\r\n",
        "       -\b--\b-e\ben\bnd\bdp\bpo\boi\bin\bnt\bt-\b-u\bur\brl\bl (string)\r\n",
        "\r\n",
        "       Override command's default URL with the given URL.\r\n",
        "\r\n",
        "       -\b--\b-n\bno\bo-\b-v\bve\ber\bri\bif\bfy\by-\b-s\bss\bsl\bl (boolean)\r\n",
        "\r\n",
        "       By default, the AWS CLI uses SSL when communicating with AWS  services.\r\n",
        "       For each SSL connection, the AWS CLI will verify SSL certificates. This\r\n",
        "       option overrides the default behavior of verifying SSL certificates.\r\n",
        "\r\n",
        "       -\b--\b-n\bno\bo-\b-p\bpa\bag\bgi\bin\bna\bat\bte\be (boolean)\r\n",
        "\r\n",
        "       Disable automatic pagination.\r\n",
        "\r\n",
        "       -\b--\b-o\bou\but\btp\bpu\but\bt (string)\r\n",
        "\r\n",
        "       The formatting style for command output.\r\n",
        "\r\n",
        "       +\bo json\r\n",
        "\r\n",
        "       +\bo text\r\n",
        "\r\n",
        "       +\bo table\r\n",
        "\r\n",
        "       -\b--\b-q\bqu\bue\ber\bry\by (string)\r\n",
        "\r\n",
        "       A JMESPath query to use in filtering the response data.\r\n",
        "\r\n",
        "       -\b--\b-p\bpr\bro\bof\bfi\bil\ble\be (string)\r\n",
        "\r\n",
        "       Use a specific profile from your credential file.\r\n",
        "\r\n",
        "       -\b--\b-r\bre\beg\bgi\bio\bon\bn (string)\r\n",
        "\r\n",
        "       The region to use. Overrides config/env settings.\r\n",
        "\r\n",
        "       -\b--\b-v\bve\ber\brs\bsi\bio\bon\bn (string)\r\n",
        "\r\n",
        "       Display the version of this tool.\r\n",
        "\r\n",
        "       -\b--\b-c\bco\bol\blo\bor\br (string)\r\n",
        "\r\n",
        "       Turn on/off color output.\r\n",
        "\r\n",
        "       +\bo on\r\n",
        "\r\n",
        "       +\bo off\r\n",
        "\r\n",
        "       +\bo auto\r\n",
        "\r\n",
        "       -\b--\b-n\bno\bo-\b-s\bsi\big\bgn\bn-\b-r\bre\beq\bqu\bue\bes\bst\bt (boolean)\r\n",
        "\r\n",
        "       Do not sign requests. Credentials will not be loaded if  this  argument\r\n",
        "       is provided.\r\n",
        "\r\n",
        "A\bAV\bVA\bAI\bIL\bLA\bAB\bBL\bLE\bE S\bSE\bER\bRV\bVI\bIC\bCE\bES\bS\r\n",
        "       +\bo autoscaling\r\n",
        "\r\n",
        "       +\bo cloudformation\r\n",
        "\r\n",
        "       +\bo cloudhsm\r\n",
        "\r\n",
        "       +\bo cloudsearch\r\n",
        "\r\n",
        "       +\bo cloudsearchdomain\r\n",
        "\r\n",
        "       +\bo cloudtrail\r\n",
        "\r\n",
        "       +\bo cloudwatch\r\n",
        "\r\n",
        "       +\bo cognito-identity\r\n",
        "\r\n",
        "       +\bo cognito-sync\r\n",
        "\r\n",
        "       +\bo configservice\r\n",
        "\r\n",
        "       +\bo configure\r\n",
        "\r\n",
        "       +\bo datapipeline\r\n",
        "\r\n",
        "       +\bo deploy\r\n",
        "\r\n",
        "       +\bo directconnect\r\n",
        "\r\n",
        "       +\bo dynamodb\r\n",
        "\r\n",
        "       +\bo ec2\r\n",
        "\r\n",
        "       +\bo ecs\r\n",
        "\r\n",
        "       +\bo elasticache\r\n",
        "\r\n",
        "       +\bo elasticbeanstalk\r\n",
        "\r\n",
        "       +\bo elastictranscoder\r\n",
        "\r\n",
        "       +\bo elb\r\n",
        "\r\n",
        "       +\bo emr\r\n",
        "\r\n",
        "       +\bo glacier\r\n",
        "\r\n",
        "       +\bo help\r\n",
        "\r\n",
        "       +\bo iam\r\n",
        "\r\n",
        "       +\bo importexport\r\n",
        "\r\n",
        "       +\bo kinesis\r\n",
        "\r\n",
        "       +\bo kms\r\n",
        "\r\n",
        "       +\bo lambda\r\n",
        "\r\n",
        "       +\bo logs\r\n",
        "\r\n",
        "       +\bo opsworks\r\n",
        "\r\n",
        "       +\bo rds\r\n",
        "\r\n",
        "       +\bo redshift\r\n",
        "\r\n",
        "       +\bo route53\r\n",
        "\r\n",
        "       +\bo route53domains\r\n",
        "\r\n",
        "       +\bo s3\r\n",
        "\r\n",
        "       +\bo s3api\r\n",
        "\r\n",
        "       +\bo ses\r\n",
        "\r\n",
        "       +\bo sns\r\n",
        "\r\n",
        "       +\bo sqs\r\n",
        "\r\n",
        "       +\bo storagegateway\r\n",
        "\r\n",
        "       +\bo sts\r\n",
        "\r\n",
        "       +\bo support\r\n",
        "\r\n",
        "       +\bo swf\r\n",
        "\r\n",
        "\r\n",
        "\r\n",
        "                                                                         AWS()\r\n"
       ]
      }
     ],
     "prompt_number": 31
    },
    {
     "cell_type": "code",
     "collapsed": false,
     "input": [
      "!aws s3 ls"
     ],
     "language": "python",
     "metadata": {},
     "outputs": [
      {
       "output_type": "stream",
       "stream": "stdout",
       "text": [
        "2015-01-26 19:14:01 emr-w205-inputs\r\n",
        "2015-01-17 19:11:59 emr-w205-outputs\r\n",
        "2015-01-17 21:34:20 mrjob-20c8a34b76a5eb49\r\n",
        "2015-01-17 21:20:29 mrjob-81cc53fc897ee1c2\r\n",
        "2015-01-17 21:31:40 mrjob-ad5d12a6796acdf2\r\n",
        "2015-01-29 19:11:50 mybuck-w205-2014\r\n"
       ]
      }
     ],
     "prompt_number": 32
    },
    {
     "cell_type": "code",
     "collapsed": false,
     "input": [
      "!aws s3 mb s3://mybuck-w205-2014"
     ],
     "language": "python",
     "metadata": {},
     "outputs": [
      {
       "output_type": "stream",
       "stream": "stdout",
       "text": [
        "make_bucket: s3://mybuck-w205-2014/\r\n"
       ]
      }
     ],
     "prompt_number": 29
    },
    {
     "cell_type": "code",
     "collapsed": false,
     "input": [
      "!aws s3 cp s3://emr-w205-outputs s3://mybuck-w205-2014 --recursive"
     ],
     "language": "python",
     "metadata": {},
     "outputs": [
      {
       "output_type": "stream",
       "stream": "stdout",
       "text": [
        "copy: s3://emr-w205-outputs/cc-test-1/_SUCCESS to s3://mybuck-w205-2014/cc-test-1/_SUCCESS\r\n",
        "Completed 1 of 4 part(s) with 3 file(s) remaining\r"
       ]
      },
      {
       "output_type": "stream",
       "stream": "stdout",
       "text": [
        "copy: s3://emr-w205-outputs/cc-test-1/part-00001 to s3://mybuck-w205-2014/cc-test-1/part-00001\r\n",
        "Completed 2 of 4 part(s) with 2 file(s) remaining\r",
        "copy: s3://emr-w205-outputs/cc-test-1/part-00000 to s3://mybuck-w205-2014/cc-test-1/part-00000\r\n",
        "Completed 3 of 4 part(s) with 1 file(s) remaining\r"
       ]
      },
      {
       "output_type": "stream",
       "stream": "stdout",
       "text": [
        "copy: s3://emr-w205-outputs/cc-test-1/part-00002 to s3://mybuck-w205-2014/cc-test-1/part-00002\r\n"
       ]
      }
     ],
     "prompt_number": 33
    },
    {
     "cell_type": "code",
     "collapsed": false,
     "input": [
      "!aws s3 ls s3://mybuck-w205-2014"
     ],
     "language": "python",
     "metadata": {},
     "outputs": [
      {
       "output_type": "stream",
       "stream": "stdout",
       "text": [
        "                           PRE cc-test-1/\r\n"
       ]
      }
     ],
     "prompt_number": 34
    },
    {
     "cell_type": "code",
     "collapsed": false,
     "input": [
      "!pysay \"Aws CLI is Awesome\""
     ],
     "language": "python",
     "metadata": {},
     "outputs": [
      {
       "output_type": "stream",
       "stream": "stdout",
       "text": [
        " ____________________\r\n",
        "< Aws CLI is Awesome >\r\n",
        " --------------------\r\n",
        "     \\           ,-.-.\r\n",
        "      \\         /     \\\r\n",
        "       \\       ( @ ,@  )._\r\n",
        "        \\    ,/\\...-..-'  `\\\r\n",
        "            /            )  \\\r\n",
        "           (  o o   ,-.  )   )\r\n",
        "            \\_____.'  ,-'    )\r\n",
        "             --/-- __/ )    /\r\n",
        "             ,^.--'  ,/    /\r\n",
        "            '  '   ,/     (         $\r\n",
        "                  /     ,'^\\   __  /|\r\n",
        "                 |          `-'  `\u00b4 /\r\n",
        "                  \\    ,.    ,-~^^^\u00b4\r\n",
        "                   `--^  `--^\r\n"
       ]
      }
     ],
     "prompt_number": 35
    },
    {
     "cell_type": "code",
     "collapsed": false,
     "input": [],
     "language": "python",
     "metadata": {},
     "outputs": []
    }
   ],
   "metadata": {}
  }
 ]
}