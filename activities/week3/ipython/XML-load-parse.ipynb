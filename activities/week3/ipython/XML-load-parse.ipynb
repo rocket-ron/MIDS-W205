{
 "metadata": {
  "name": "",
  "signature": "sha256:9e44a2cf47a5569bb29c94ea5557f576f3cce03d3af111e709f6d41066204436"
 },
 "nbformat": 3,
 "nbformat_minor": 0,
 "worksheets": [
  {
   "cells": [
    {
     "cell_type": "markdown",
     "metadata": {},
     "source": [
      "#Write a python program to process \"enwiki-latest-stub-articles1.xml\" file for the following tasks:\n",
      "\n",
      "collect all page ids and title names for pages whose title starts with either \"Afghanistan\" or \"America\". Write this info into the file named pages.txt in the following format:\n",
      "\n",
      "<page id>, <page title>"
     ]
    },
    {
     "cell_type": "code",
     "collapsed": false,
     "input": [
      "import os\n",
      "from xml.etree import ElementTree\n",
      "\n",
      "\n",
      "# Load and parse an XML file\n",
      "def parseXmlFile(fname):\n",
      "\ttry:\n",
      "\t\ttree = ElementTree.parse(fname)\t\t\n",
      "\texcept Exception as inst:\n",
      "\t\tprint (\"error opening file: %s\", inst)\n",
      "\t\treturn\n",
      "\treturn tree\n",
      "\n",
      "\n",
      "def main():\n",
      "\n",
      "\tftitle = open(\"pages.txt\", 'w')\n",
      "\t\n",
      "\ttree = parseXmlFile(\"./enwiki-latest-stub-articles1.xml\")\n",
      "\tif tree is not None:\n",
      "\t\troot = tree.getroot()\t\t\n",
      "\t\t#to get the list of titles in all the docs\n",
      "\t\tcount = 0\n",
      "\t\tfor child in root.iter('page'):\n",
      "\t\t\tif child.find('title').text.startswith('Afghanistan') or child.find('title').text.startswith('America'):\n",
      "\t\t\t\tcount += 1\n",
      "\t\t\t\ttitle_id = child.find('id')\n",
      "\t\t\t\t#print  child.find('id').text, child.find('title').text\n",
      "\t\t\t\t\n",
      "\t\t\t\tftitle.write( child.find('id').text + \"\\t\" + child.find('title').text  + \"\\n\")\n",
      "\t\t\t\t\n",
      "\t\tftitle.close()\t\n",
      "\t\t\n",
      "\n",
      "if __name__ == '__main__':\n",
      "\tmain()\n",
      "\t\n"
     ],
     "language": "python",
     "metadata": {},
     "outputs": [],
     "prompt_number": 6
    },
    {
     "cell_type": "code",
     "collapsed": false,
     "input": [
      "!cat pages.txt"
     ],
     "language": "python",
     "metadata": {},
     "outputs": [
      {
       "output_type": "stream",
       "stream": "stdout",
       "text": [
        "13\tAfghanistanHistory\r\n",
        "14\tAfghanistanGeography\r\n",
        "15\tAfghanistanPeople\r\n",
        "18\tAfghanistanCommunications\r\n",
        "19\tAfghanistanTransportations\r\n",
        "20\tAfghanistanMilitary\r\n",
        "21\tAfghanistanTransnationalIssues\r\n",
        "276\tAmericanFootball\r\n",
        "615\tAmerican Football Conference\r\n",
        "651\tAmerica the Beautiful\r\n",
        "659\tAmerican National Standards Institute\r\n",
        "737\tAfghanistan\r\n",
        "771\tAmerican Revolutionary War\r\n",
        "813\tAfghanistan/History\r\n",
        "814\tAfghanistan/Geography\r\n",
        "815\tAfghanistan/Government\r\n",
        "816\tAfghanistan/People\r\n",
        "817\tAfghanistan/Economy\r\n",
        "818\tAfghanistan/Communications\r\n",
        "820\tAfghanistan/Military\r\n",
        "821\tAfghanistan/Transnational Issues\r\n",
        "822\tAfghanistan (1911 Encyclopedia)\r\n",
        "863\tAmerican Civil War\r\n",
        "869\tAmerican Film Institute\r\n",
        "966\tAmerican shot\r\n",
        "1116\tAmerican Samoa/Military\r\n",
        "1136\tAmerica's National Game\r\n",
        "1201\tAmerican Sign Language\r\n",
        "1241\tAmerican (word)\r\n",
        "1338\tAmericans with Disabilities Act of 1990\r\n",
        "1339\tAmericans with Disabilities Act of 1990/Findings and Purposes\r\n",
        "1340\tAmericans with Disabilities Act of 1990/Definitions\r\n",
        "1341\tAmericans with Disabilities Act of 1990/Title III\r\n",
        "1558\tAmerican Chinese cuisine\r\n",
        "1833\tAmerican bias\r\n",
        "1890\tAmerican English\r\n",
        "1902\tAmerican Airlines Flight 77\r\n",
        "1903\tAmerican Airlines flight 77\r\n",
        "1904\tAmerican Airlines flight 11\r\n",
        "1950\tAmerican Civil Liberties Union\r\n",
        "1973\tAmerican Revolution\r\n",
        "2211\tAmerican Folklore\r\n",
        "2299\tAmerican Media (publisher)\r\n",
        "2357\tAmerican Football League\r\n",
        "2386\tAmerican Airlines\r\n",
        "2472\tAmerican Quarter Horse\r\n",
        "2561\tAmerican political scandals\r\n",
        "2647\tAmerican indian\r\n",
        "2659\tAmerican war of independence\r\n",
        "2799\tAmerican Registry for Internet Numbers\r\n",
        "2863\tAmerican Telephone and Telegraph Company\r\n",
        "2977\tAmerican sign language\r\n",
        "3260\tAmerica Islands\r\n",
        "3861\tAmerican League Championship Series\r\n",
        "3862\tAmerican League Division Series\r\n"
       ]
      }
     ],
     "prompt_number": 8
    },
    {
     "cell_type": "code",
     "collapsed": false,
     "input": [],
     "language": "python",
     "metadata": {},
     "outputs": []
    }
   ],
   "metadata": {}
  }
 ]
}