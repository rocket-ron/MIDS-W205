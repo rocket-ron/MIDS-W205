{
 "cells": [
  {
   "cell_type": "code",
   "execution_count": 16,
   "metadata": {
    "collapsed": true
   },
   "outputs": [],
   "source": [
    "from math import log\n",
    "\n",
    "q_terms = ['citizens', 'supplication', 'executive', 'despondence', 'veneration', 'tranquil', 'palliated', 'vicissitudes', 'it', 'to']\n",
    "\n",
    "def tf(term, doc):\n",
    "    doc = doc.lower().split()\n",
    "    return doc.count(term.lower()) / float(len(doc))\n",
    "\n",
    "def idf(term, corpus):\n",
    "    num_doc_with_term = 0\n",
    "    for text in corpus:\n",
    "        if term.lower() in text.lower().split():\n",
    "            num_doc_with_term += 1\n",
    "    return 1.0 + log(float(len(corpus))/num_doc_with_term)\n",
    "\n",
    "def tf_idf(term, doc, corpus):\n",
    "    return tf(term, doc) * idf(term, corpus)"
   ]
  },
  {
   "cell_type": "code",
   "execution_count": 8,
   "metadata": {
    "collapsed": false
   },
   "outputs": [
    {
     "data": {
      "text/plain": [
       "10"
      ]
     },
     "execution_count": 8,
     "metadata": {},
     "output_type": "execute_result"
    }
   ],
   "source": [
    "len(q_terms)"
   ]
  },
  {
   "cell_type": "code",
   "execution_count": 25,
   "metadata": {
    "collapsed": true
   },
   "outputs": [
    {
     "name": "stdout",
     "output_type": "stream",
     "text": [
      "['inaugural/1789-Washington.txt', 'inaugural/1793-Washington.txt', 'inaugural/1797-Adams.txt', 'inaugural/1801-Jefferson.txt', 'inaugural/1805-Jefferson.txt', 'inaugural/1809-Madison.txt', 'inaugural/1813-Madison.txt', 'inaugural/1817-Monroe.txt', 'inaugural/1821-Monroe.txt', 'inaugural/1825-Adams.txt', 'inaugural/1829-Jackson.txt', 'inaugural/1833-Jackson.txt', 'inaugural/1837-VanBuren.txt', 'inaugural/1841-Harrison.txt', 'inaugural/1845-Polk.txt', 'inaugural/1849-Taylor.txt', 'inaugural/1853-Pierce.txt', 'inaugural/1857-Buchanan.txt', 'inaugural/1861-Lincoln.txt', 'inaugural/1865-Lincoln.txt', 'inaugural/1869-Grant.txt', 'inaugural/1873-Grant.txt', 'inaugural/1877-Hayes.txt', 'inaugural/1881-Garfield.txt', 'inaugural/1885-Cleveland.txt', 'inaugural/1889-Harrison.txt', 'inaugural/1893-Cleveland.txt', 'inaugural/1897-McKinley.txt', 'inaugural/1901-McKinley.txt', 'inaugural/1905-Roosevelt.txt', 'inaugural/1909-Taft.txt', 'inaugural/1913-Wilson.txt', 'inaugural/1917-Wilson.txt', 'inaugural/1921-Harding.txt', 'inaugural/1925-Coolidge.txt', 'inaugural/1929-Hoover.txt', 'inaugural/1933-Roosevelt.txt', 'inaugural/1937-Roosevelt.txt', 'inaugural/1941-Roosevelt.txt', 'inaugural/1945-Roosevelt.txt', 'inaugural/1949-Truman.txt', 'inaugural/1953-Eisenhower.txt', 'inaugural/1957-Eisenhower.txt', 'inaugural/1961-Kennedy.txt', 'inaugural/1965-Johnson.txt', 'inaugural/1969-Nixon.txt', 'inaugural/1973-Nixon.txt', 'inaugural/1977-Carter.txt', 'inaugural/1981-Reagan.txt', 'inaugural/1985-Reagan.txt', 'inaugural/1989-Bush.txt', 'inaugural/1993-Clinton.txt', 'inaugural/1997-Clinton.txt', 'inaugural/2001-Bush.txt', 'inaugural/2005-Bush.txt', 'inaugural/2009-Obama.txt']\n"
     ]
    }
   ],
   "source": [
    "corpus = []\n",
    "import glob\n",
    "files = glob.glob('inaugural/*.txt')\n",
    "print files\n",
    "# files = ['inaugural/1789-Washington.txt', 'inaugural/1797-Adams.txt', 'inaugural/1801-Jefferson.txt']\n",
    "\n",
    "for f in files:\n",
    "    with open(f) as d:\n",
    "        corpus.append(d.read())"
   ]
  },
  {
   "cell_type": "code",
   "execution_count": 22,
   "metadata": {
    "collapsed": false
   },
   "outputs": [],
   "source": [
    "doc_result = []\n",
    "for doc in corpus:\n",
    "    term_result = {}\n",
    "    for term in q_terms:\n",
    "        term_result[term] = tf_idf(term, doc, corpus)\n",
    "    doc_result.append(term_result)"
   ]
  },
  {
   "cell_type": "code",
   "execution_count": 24,
   "metadata": {
    "collapsed": false
   },
   "outputs": [
    {
     "name": "stdout",
     "output_type": "stream",
     "text": [
      "{'citizens': 0.0026995431288297294, 'palliated': 0.0035117761640357436, 'vicissitudes': 0.002744052691870747, 'executive': 0.0024172114950815095, 'it': 0.0069881201956673656, 'supplication': 0.0035117761640357436, 'to': 0.03284416491963662, 'veneration': 0.002744052691870747, 'despondence': 0.0035117761640357436, 'tranquil': 0.003027396582931659}\n",
      "{'citizens': 0.0, 'palliated': 0.0, 'vicissitudes': 0.0, 'executive': 0.0, 'it': 0.014814814814814815, 'supplication': 0.0, 'to': 0.037037037037037035, 'veneration': 0.0, 'despondence': 0.0, 'tranquil': 0.0}\n",
      "{'citizens': 0.0011105494372158525, 'palliated': 0.0, 'vicissitudes': 0.0, 'executive': 0.001491603988556119, 'it': 0.0129366106080207, 'supplication': 0.0, 'to': 0.031047865459249677, 'veneration': 0.0033865799069142215, 'despondence': 0.0, 'tranquil': 0.0}\n",
      "{'citizens': 0.0014886497947419431, 'palliated': 0.0, 'vicissitudes': 0.0, 'executive': 0.0009997195518675261, 'it': 0.006358381502890174, 'supplication': 0.0, 'to': 0.03526011560693642, 'veneration': 0.0, 'despondence': 0.0, 'tranquil': 0.0}\n",
      "{'citizens': 0.002971116918439734, 'palliated': 0.0, 'vicissitudes': 0.0, 'executive': 0.0007981148245181449, 'it': 0.007844946931241348, 'supplication': 0.0, 'to': 0.03830179972311952, 'veneration': 0.0, 'despondence': 0.0, 'tranquil': 0.0}\n",
      "{'citizens': 0.0, 'palliated': 0.0, 'vicissitudes': 0.0, 'executive': 0.0, 'it': 0.005097706032285472, 'supplication': 0.0, 'to': 0.051826677994902294, 'veneration': 0.0, 'despondence': 0.0, 'tranquil': 0.0036807175107690777}\n",
      "{'citizens': 0.0031926001796325145, 'palliated': 0.0, 'vicissitudes': 0.0, 'executive': 0.0, 'it': 0.012396694214876033, 'supplication': 0.0, 'to': 0.03471074380165289, 'veneration': 0.0, 'despondence': 0.0, 'tranquil': 0.0}\n",
      "{'citizens': 0.0011452849740158145, 'palliated': 0.0, 'vicissitudes': 0.0, 'executive': 0.0015382580712103352, 'it': 0.013341239252890602, 'supplication': 0.0, 'to': 0.037355469908093686, 'veneration': 0.0, 'despondence': 0.0, 'tranquil': 0.0}\n",
      "{'citizens': 0.0023045764160210844, 'palliated': 0.0, 'vicissitudes': 0.0, 'executive': 0.0007738321363448859, 'it': 0.012975391498881432, 'supplication': 0.0, 'to': 0.03243847874720358, 'veneration': 0.0, 'despondence': 0.0, 'tranquil': 0.0}\n",
      "{'citizens': 0.0, 'palliated': 0.0, 'vicissitudes': 0.001344773767831178, 'executive': 0.0017768987925316643, 'it': 0.006506849315068493, 'supplication': 0.0, 'to': 0.03458904109589041, 'veneration': 0.0, 'despondence': 0.0, 'tranquil': 0.0}\n",
      "{'citizens': 0.001139541657036974, 'palliated': 0.0, 'vicissitudes': 0.0, 'executive': 0.0030610881853642834, 'it': 0.01327433628318584, 'supplication': 0.0, 'to': 0.04601769911504425, 'veneration': 0.0034749906212982653, 'despondence': 0.0, 'tranquil': 0.0}\n",
      "{'citizens': 0.0021862174404953835, 'palliated': 0.0, 'vicissitudes': 0.0, 'executive': 0.0, 'it': 0.006791171477079796, 'supplication': 0.0, 'to': 0.03904923599320883, 'veneration': 0.0, 'despondence': 0.0, 'tranquil': 0.0}\n",
      "{'citizens': 0.0006696214625334274, 'palliated': 0.0, 'vicissitudes': 0.0010209930842608008, 'executive': 0.0008993836842073949, 'it': 0.009880395215808632, 'supplication': 0.0, 'to': 0.036141445657826315, 'veneration': 0.0, 'despondence': 0.0, 'tranquil': 0.0}\n",
      "{'citizens': 0.0018334343698886296, 'palliated': 0.0, 'vicissitudes': 0.0, 'executive': 0.004514632907460613, 'it': 0.012458471760797342, 'supplication': 0.0, 'to': 0.03737541528239203, 'veneration': 0.0, 'despondence': 0.0, 'tranquil': 0.0}\n",
      "{'citizens': 0.0016075930991907375, 'palliated': 0.0, 'vicissitudes': 0.0, 'executive': 0.0017993287814511239, 'it': 0.00957136912193092, 'supplication': 0.0, 'to': 0.03766125676238036, 'veneration': 0.0, 'despondence': 0.0, 'tranquil': 0.0}\n",
      "{'citizens': 0.0011824445109750053, 'palliated': 0.0, 'vicissitudes': 0.0, 'executive': 0.001588167883132066, 'it': 0.0073461891643709825, 'supplication': 0.0, 'to': 0.05601469237832874, 'veneration': 0.0, 'despondence': 0.0, 'tranquil': 0.0}\n",
      "{'citizens': 0.0007715291027272504, 'palliated': 0.0, 'vicissitudes': 0.0, 'executive': 0.0, 'it': 0.009586578789694428, 'supplication': 0.0, 'to': 0.032055122828040745, 'veneration': 0.0, 'despondence': 0.0, 'tranquil': 0.0}\n",
      "{'citizens': 0.00045581666281478965, 'palliated': 0.0, 'vicissitudes': 0.0, 'executive': 0.0, 'it': 0.011327433628318584, 'supplication': 0.0, 'to': 0.03575221238938053, 'veneration': 0.0, 'despondence': 0.0, 'tranquil': 0.0}\n",
      "{'citizens': 0.001769280121533087, 'palliated': 0.0, 'vicissitudes': 0.0, 'executive': 0.0009505440091952844, 'it': 0.01236603462489695, 'supplication': 0.0, 'to': 0.03654850233580654, 'veneration': 0.0, 'despondence': 0.0, 'tranquil': 0.0}\n",
      "{'citizens': 0.0, 'palliated': 0.0, 'vicissitudes': 0.0, 'executive': 0.0, 'it': 0.014326647564469915, 'supplication': 0.0, 'to': 0.03868194842406877, 'veneration': 0.0, 'despondence': 0.0, 'tranquil': 0.0}\n",
      "{'citizens': 0.002281101988399966, 'palliated': 0.0, 'vicissitudes': 0.0, 'executive': 0.0, 'it': 0.0141718334809566, 'supplication': 0.0, 'to': 0.050487156775907885, 'veneration': 0.0, 'despondence': 0.0, 'tranquil': 0.0}\n",
      "{'citizens': 0.0, 'palliated': 0.0, 'vicissitudes': 0.0, 'executive': 0.005158880908965906, 'it': 0.007457121551081283, 'supplication': 0.0, 'to': 0.036539895600298286, 'veneration': 0.0, 'despondence': 0.0, 'tranquil': 0.0}\n",
      "{'citizens': 0.0015520474959242034, 'palliated': 0.0, 'vicissitudes': 0.0, 'executive': 0.0006948633285378947, 'it': 0.007633587786259542, 'supplication': 0.0, 'to': 0.035355564483728404, 'veneration': 0.0, 'despondence': 0.0, 'tranquil': 0.0}\n",
      "{'citizens': 0.0008647965563813169, 'palliated': 0.0, 'vicissitudes': 0.0, 'executive': 0.0011615277533450774, 'it': 0.011081262592343854, 'supplication': 0.0, 'to': 0.026863666890530557, 'veneration': 0.0, 'despondence': 0.0, 'tranquil': 0.0}\n",
      "{'citizens': 0.0030568120414285597, 'palliated': 0.0, 'vicissitudes': 0.0, 'executive': 0.0020528365872175907, 'it': 0.005341246290801187, 'supplication': 0.0, 'to': 0.03382789317507418, 'veneration': 0.0, 'despondence': 0.0, 'tranquil': 0.0}\n",
      "{'citizens': 0.0005870444825401326, 'palliated': 0.0, 'vicissitudes': 0.0, 'executive': 0.0019711817013116253, 'it': 0.006610439936175063, 'supplication': 0.0, 'to': 0.03031684522452701, 'veneration': 0.0, 'despondence': 0.0, 'tranquil': 0.0}\n",
      "{'citizens': 0.0019190492883036973, 'palliated': 0.0, 'vicissitudes': 0.0, 'executive': 0.00171834557847076, 'it': 0.008445106805762544, 'supplication': 0.0, 'to': 0.039244908097367116, 'veneration': 0.0, 'despondence': 0.0, 'tranquil': 0.0}\n",
      "{'citizens': 0.001296432995169173, 'palliated': 0.0, 'vicissitudes': 0.0, 'executive': 0.0008706341931693029, 'it': 0.013340045305814245, 'supplication': 0.0, 'to': 0.02844198338786811, 'veneration': 0.0, 'despondence': 0.0, 'tranquil': 0.0}\n",
      "{'citizens': 0.0, 'palliated': 0.0, 'vicissitudes': 0.0, 'executive': 0.0062550264908890416, 'it': 0.009945750452079566, 'supplication': 0.0, 'to': 0.028933092224231464, 'veneration': 0.0, 'despondence': 0.0, 'tranquil': 0.0}\n",
      "{'citizens': 0.0, 'palliated': 0.0, 'vicissitudes': 0.0, 'executive': 0.0, 'it': 0.007113821138211382, 'supplication': 0.0, 'to': 0.028455284552845527, 'veneration': 0.0, 'despondence': 0.0, 'tranquil': 0.0}\n",
      "{'citizens': 0.0007114265593656248, 'palliated': 0.0, 'vicissitudes': 0.0, 'executive': 0.0019110661046749394, 'it': 0.009023941068139963, 'supplication': 0.0, 'to': 0.03996316758747698, 'veneration': 0.0, 'despondence': 0.0, 'tranquil': 0.0}\n",
      "{'citizens': 0.0, 'palliated': 0.0, 'vicissitudes': 0.0, 'executive': 0.0, 'it': 0.0164802825191289, 'supplication': 0.0, 'to': 0.028840494408475574, 'veneration': 0.0, 'despondence': 0.0, 'tranquil': 0.0}\n",
      "{'citizens': 0.0016799505185280898, 'palliated': 0.0, 'vicissitudes': 0.0, 'executive': 0.0, 'it': 0.0091324200913242, 'supplication': 0.0, 'to': 0.030006523157208087, 'veneration': 0.0, 'despondence': 0.0, 'tranquil': 0.0}\n",
      "{'citizens': 0.00038680747144841717, 'palliated': 0.0, 'vicissitudes': 0.0, 'executive': 0.0005195298362063143, 'it': 0.008410934214478822, 'supplication': 0.0, 'to': 0.031240612796635626, 'veneration': 0.0, 'despondence': 0.0, 'tranquil': 0.0}\n",
      "{'citizens': 0.0006349517122543298, 'palliated': 0.0, 'vicissitudes': 0.0, 'executive': 0.0, 'it': 0.010601577909270217, 'supplication': 0.0, 'to': 0.03328402366863906, 'veneration': 0.0, 'despondence': 0.0, 'tranquil': 0.0}\n",
      "{'citizens': 0.002168423360850599, 'palliated': 0.0, 'vicissitudes': 0.0, 'executive': 0.0004854097178587764, 'it': 0.006735896716250351, 'supplication': 0.0, 'to': 0.028066236317709794, 'veneration': 0.0, 'despondence': 0.0, 'tranquil': 0.0}\n",
      "{'citizens': 0.000683120462839141, 'palliated': 0.0, 'vicissitudes': 0.0, 'executive': 0.0018350289917568382, 'it': 0.011671087533156498, 'supplication': 0.0, 'to': 0.026525198938992044, 'veneration': 0.0, 'despondence': 0.0, 'tranquil': 0.0}\n",
      "{'citizens': 0.0007090760310857825, 'palliated': 0.0, 'vicissitudes': 0.0, 'executive': 0.0, 'it': 0.005506607929515419, 'supplication': 0.0, 'to': 0.030837004405286344, 'veneration': 0.0, 'despondence': 0.0, 'tranquil': 0.0}\n",
      "{'citizens': 0.0, 'palliated': 0.0, 'vicissitudes': 0.0, 'executive': 0.0, 'it': 0.020588235294117647, 'supplication': 0.0, 'to': 0.026470588235294117, 'veneration': 0.0, 'despondence': 0.0, 'tranquil': 0.0}\n",
      "{'citizens': 0.0022551349780241346, 'palliated': 0.0, 'vicissitudes': 0.0, 'executive': 0.0, 'it': 0.012259194395796848, 'supplication': 0.0, 'to': 0.028021015761821366, 'veneration': 0.0, 'despondence': 0.0, 'tranquil': 0.0}\n",
      "{'citizens': 0.0, 'palliated': 0.0, 'vicissitudes': 0.0, 'executive': 0.0, 'it': 0.0035103115401491883, 'supplication': 0.0, 'to': 0.03554190434401053, 'veneration': 0.0, 'despondence': 0.0, 'tranquil': 0.0}\n",
      "{'citizens': 0.0010443488016640557, 'palliated': 0.0, 'vicissitudes': 0.0, 'executive': 0.0007013442111641606, 'it': 0.007704785077047851, 'supplication': 0.0, 'to': 0.032846715328467155, 'veneration': 0.0, 'despondence': 0.0, 'tranquil': 0.0}\n",
      "{'citizens': 0.0, 'palliated': 0.0, 'vicissitudes': 0.0, 'executive': 0.0, 'it': 0.0059417706476530005, 'supplication': 0.0, 'to': 0.026143790849673203, 'veneration': 0.0, 'despondence': 0.0, 'tranquil': 0.0}\n",
      "{'citizens': 0.0027791699405434116, 'palliated': 0.0, 'vicissitudes': 0.0, 'executive': 0.0, 'it': 0.004316546762589928, 'supplication': 0.0, 'to': 0.030215827338129497, 'veneration': 0.0, 'despondence': 0.0, 'tranquil': 0.0}\n",
      "{'citizens': 0.0, 'palliated': 0.0, 'vicissitudes': 0.0, 'executive': 0.0, 'it': 0.014, 'supplication': 0.0, 'to': 0.024666666666666667, 'veneration': 0.0, 'despondence': 0.0, 'tranquil': 0.0}\n",
      "{'citizens': 0.0006014395480858387, 'palliated': 0.0, 'vicissitudes': 0.0, 'executive': 0.0, 'it': 0.004203643157403083, 'supplication': 0.0, 'to': 0.031293787949556284, 'veneration': 0.0, 'despondence': 0.0, 'tranquil': 0.0}\n",
      "{'citizens': 0.0007079065818866305, 'palliated': 0.0, 'vicissitudes': 0.0, 'executive': 0.0, 'it': 0.002748763056624519, 'supplication': 0.0, 'to': 0.035733919736118745, 'veneration': 0.0, 'despondence': 0.0, 'tranquil': 0.0}\n",
      "{'citizens': 0.0, 'palliated': 0.0, 'vicissitudes': 0.0, 'executive': 0.0, 'it': 0.0040551500405515, 'supplication': 0.0, 'to': 0.034874290348742905, 'veneration': 0.0, 'despondence': 0.0, 'tranquil': 0.0}\n",
      "{'citizens': 0.0010550447131927741, 'palliated': 0.0, 'vicissitudes': 0.0, 'executive': 0.0, 'it': 0.010241704219582138, 'supplication': 0.0, 'to': 0.03277345350266284, 'veneration': 0.0, 'despondence': 0.0, 'tranquil': 0.0}\n",
      "{'citizens': 0.0009997531618414447, 'palliated': 0.0, 'vicissitudes': 0.0, 'executive': 0.0, 'it': 0.007375776397515528, 'supplication': 0.0, 'to': 0.028338509316770188, 'veneration': 0.0, 'despondence': 0.0, 'tranquil': 0.0}\n",
      "{'citizens': 0.000554080065598873, 'palliated': 0.0, 'vicissitudes': 0.0, 'executive': 0.00148839485777179, 'it': 0.004733218588640275, 'supplication': 0.0, 'to': 0.02667814113597246, 'veneration': 0.0, 'despondence': 0.0, 'tranquil': 0.0}\n",
      "{'citizens': 0.0008058085559773347, 'palliated': 0.0, 'vicissitudes': 0.0, 'executive': 0.0, 'it': 0.004380475594493116, 'supplication': 0.0, 'to': 0.030663329161451813, 'veneration': 0.0, 'despondence': 0.0, 'tranquil': 0.0}\n",
      "{'citizens': 0.0011868037534117795, 'palliated': 0.0, 'vicissitudes': 0.0, 'executive': 0.0, 'it': 0.003686635944700461, 'supplication': 0.0, 'to': 0.029493087557603687, 'veneration': 0.0, 'despondence': 0.0, 'tranquil': 0.0}\n",
      "{'citizens': 0.0016279166529099632, 'palliated': 0.0, 'vicissitudes': 0.0, 'executive': 0.0, 'it': 0.007585335018963337, 'supplication': 0.0, 'to': 0.028445006321112517, 'veneration': 0.0, 'despondence': 0.0, 'tranquil': 0.0}\n",
      "{'citizens': 0.0018789135298420926, 'palliated': 0.0, 'vicissitudes': 0.0, 'executive': 0.0, 'it': 0.005350194552529183, 'supplication': 0.0, 'to': 0.01848249027237354, 'veneration': 0.0, 'despondence': 0.0, 'tranquil': 0.0}\n",
      "{'citizens': 0.0, 'palliated': 0.0, 'vicissitudes': 0.0, 'executive': 0.0, 'it': 0.007039337474120083, 'supplication': 0.0, 'to': 0.028985507246376812, 'veneration': 0.0, 'despondence': 0.0, 'tranquil': 0.0}\n"
     ]
    }
   ],
   "source": [
    "for result in doc_result:\n",
    "    print result"
   ]
  },
  {
   "cell_type": "code",
   "execution_count": null,
   "metadata": {
    "collapsed": true
   },
   "outputs": [],
   "source": []
  }
 ],
 "metadata": {
  "kernelspec": {
   "display_name": "Python 2",
   "language": "python",
   "name": "python2"
  },
  "language_info": {
   "codemirror_mode": {
    "name": "ipython",
    "version": 2
   },
   "file_extension": ".py",
   "mimetype": "text/x-python",
   "name": "python",
   "nbconvert_exporter": "python",
   "pygments_lexer": "ipython2",
   "version": "2.7.6"
  }
 },
 "nbformat": 4,
 "nbformat_minor": 0
}
